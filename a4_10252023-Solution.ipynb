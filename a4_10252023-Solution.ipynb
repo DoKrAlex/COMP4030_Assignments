{
 "cells": [
  {
   "cell_type": "markdown",
   "id": "b5f2da0e-4e85-4446-9271-cc35081b8404",
   "metadata": {},
   "source": [
    "### COMP 4030 assignment 4 SOLUTION\n",
    "#### Due: 11/02/2023 at 9AM\n"
   ]
  },
  {
   "cell_type": "markdown",
   "id": "21330992-a8c0-428a-bb3e-3f7103374be1",
   "metadata": {},
   "source": [
    "---\n",
    "### The Master's Theorem\n",
    "Complex form: $T(n) = \\Theta(n^d) + a * T({n \\over b})$\n",
    "\n",
    "Simplified form:\n",
    "$$T(n) = n^d + a * T({n \\over b})$$\n",
    "\n",
    "There are two cases:\n",
    "1. If $d \\neq \\log_b a$, then $T(n) \\in \\Theta(n^{\\max(d, \\log_b a)})$\n",
    "2. If $d == \\log_b a$, then $T(n) \\in \\Theta(n^d \\log n)$"
   ]
  },
  {
   "cell_type": "markdown",
   "id": "ca31d091-540a-449d-a337-5539968c66fb",
   "metadata": {},
   "source": [
    "---\n",
    "**Problem 1**\n",
    "\n",
    "Use the substitution method to find the complexity of `T(n) = 4n + 4T(n/4)`.\n",
    "\n",
    "Do not skip any steps in repeatedly substituting for T on the right hand side of the equation.\n",
    "\n",
    "Once you fully expand T and identify a pattern, use either the arithmetic sum or geometric sum to add up all the terms."
   ]
  },
  {
   "cell_type": "markdown",
   "id": "8d2a4dc5-84c1-4878-976c-ec4e79e5c0f0",
   "metadata": {},
   "source": [
    "ANSWER:\n",
    "\n",
    "Using the Master's theorem: 1 = log_4(4)=1.  Therefore, $T(n) \\in \\Theta(n \\log n)$\n"
   ]
  },
  {
   "cell_type": "markdown",
   "id": "28c53418-c5cb-496d-91ed-7e05da04d10b",
   "metadata": {},
   "source": [
    "We'll have to use substitution for this problem.\n",
    "\n",
    "T(n) = 4n + 4T(n/4)\n",
    "\n",
    "T(n) = 4n + 4 * (  4n/4 + 4T(n/4^2)  ) = 4n + 4n + 4^2 * T(n/4^2)\n",
    "\n",
    "T(n) =  4n + 4n + 4^2 * (  n/4 + 4T(n/4^3)  ) = 4n + 4n + 4n + 4^3 * T(n/4^3)\n",
    "\n",
    "T(n) = 4n + 4n + 4n + 4^3 * (  n/4^2 + 4T(n/4^4) ) = 4n + 4n + 4n + 4n + 4^4 * T(n/4^4)\n",
    "\n",
    "\n",
    "T(n) = 4n + 4n + 4n + 4n + 4n + 4^5 * T(n/4^5)\n",
    "\n",
    "T(n) = (4n)*6 + 4^6 * T(n/4^6)\n",
    "\n",
    "After k steps:  T(n) = (4n)*k + 4^k + T(n/4^k)\n",
    "\n",
    "When n/4^k = 1, we stop.   n/4^k = 1 or n = 4^k, which means k = log4(n).\n",
    "\n",
    "Therefore, T(n) = 4n*log4(n) + n + T(1).  $T(n) \\in \\Theta(n \\log n)$\n"
   ]
  },
  {
   "cell_type": "markdown",
   "id": "acb62ab7-2892-4a9d-991a-06175f3788e2",
   "metadata": {},
   "source": [
    "Scratch space:\n",
    "\n",
    "Main/original equation: T(n) = 4n + 4T(n/4)\n",
    "\n",
    "T(n/4) = 4n/4 + 4T(n/4^2)\n",
    "\n",
    "T(n/4^2) = n/4 + 4T(n/4^3)\n",
    "\n",
    "T(n/4^3) = n/4^2 + 4T(n/4^4)\n",
    "\n"
   ]
  },
  {
   "cell_type": "markdown",
   "id": "f130e1a6-1345-47e1-9855-bf299f0c138a",
   "metadata": {},
   "source": [
    "---\n",
    "**Problem 2**\n",
    "\n",
    "Use the Master's theorem to find the complexity of this equation $T(n) = n^3 + 4\\cdot T({n \\over 2})$"
   ]
  },
  {
   "cell_type": "markdown",
   "id": "d7c2cadc-c917-464e-9062-d6c41836e33d",
   "metadata": {},
   "source": [
    "ANSWER:\n",
    "\n",
    " 3 > log2(4)=2.   $T(n) \\in \\Theta(n^3)$."
   ]
  },
  {
   "cell_type": "markdown",
   "id": "663d5da0-4c2a-42ca-96a7-28b03fa7bb08",
   "metadata": {},
   "source": [
    "---\n",
    "**Problem 3**\n",
    "\n",
    "Use the Master's theorem to find the complexity of this equation $T(n) = n^3 + 27\\cdot T({n \\over 3})$"
   ]
  },
  {
   "cell_type": "markdown",
   "id": "eb7b9c95-f297-4703-85eb-c7185bf5c991",
   "metadata": {},
   "source": [
    "ANSWER:\n",
    "\n",
    "3 = log3(27).  $T(n) \\in \\Theta(n^3 \\log n)$\n"
   ]
  },
  {
   "cell_type": "markdown",
   "id": "09205bab-cecf-4b74-a0ea-eeb681fd717e",
   "metadata": {
    "tags": []
   },
   "source": [
    "----\n",
    "**Problem 4**\n",
    "\n",
    "Specify the running time equation, T(n), of the following program, and use the Master's theorem to find its complexity.  Note that list slicing in Python takes linear time."
   ]
  },
  {
   "cell_type": "code",
   "execution_count": 1,
   "id": "8b54eb58-a7fd-4567-972a-cad862c28fe2",
   "metadata": {
    "tags": []
   },
   "outputs": [],
   "source": [
    "#\n",
    "# Input: L is a list of numbers\n",
    "#\n",
    "def prob4(L):\n",
    "    if len(L) <= 3:\n",
    "        return 5\n",
    "    A = L[0 : len(L)//3]\n",
    "    return 5 + prob4(A)\n",
    "\n"
   ]
  },
  {
   "cell_type": "markdown",
   "id": "d585f62c-ef6b-46f7-abc0-8474bb98a57d",
   "metadata": {},
   "source": [
    "ANSWER:\n",
    "\n",
    "$T(n) = a + n/3 + T(n/3) = \\Theta(n) + T(n/3)$\n",
    "\n",
    "Simplify this further:  $T(n) = n + T(n/3)$\n",
    "\n",
    "Compare 1 and log3(1)=0.  1 > log3(1).  So, $T(n) \\in \\Theta(n)$.\n",
    "\n",
    "\n"
   ]
  },
  {
   "cell_type": "markdown",
   "id": "2fad0144-2a81-4e45-af2d-98069cee958a",
   "metadata": {},
   "source": [
    "---\n",
    "**Question 5**\n",
    "\n",
    "In the two algorithms below,\n",
    "\n",
    "+ *probA* calls *split5*, which takes as input a list of length $n$ and returns 5 lists, each of length ${n \\over 2}$. Its complexity is $\\Theta(n)$.\n",
    "\n",
    "+ *probB* calls *split3*, which takes as input a list of length $n$ and returns 3 lists, each of length ${n \\over 2}$. Its complexity is $\\Theta(n^2)$.\n",
    "\n",
    "Use the Master's theorem to determine which one the following programs has better complexity (i.e. more efficient).\n",
    "\n",
    "```\n",
    "def probA(L):\n",
    "    if len(L) <= 5:\n",
    "        return 0\n",
    "    L1, L2, L3, L4, L5 = split5(L)\n",
    "    return probA(L1) + probA(L2) + probA(L3) + probA(L4) + probA(L5)\n",
    "\n",
    "\n",
    "\n",
    "def probB(L):\n",
    "    if len(L) <= 3:\n",
    "        return 1\n",
    "    s = 0\n",
    "    for x in L:\n",
    "        for y in L:\n",
    "            s += x*y\n",
    "    L1, L2, L3 = split3(L)\n",
    "    return s + probB(L1) + probB(L2) + probB(L3)\n",
    "\n",
    "```\n"
   ]
  },
  {
   "cell_type": "markdown",
   "id": "47bc82c4-3987-4336-9d2c-dcc18756ef88",
   "metadata": {},
   "source": [
    "ANSWER:\n",
    "\n"
   ]
  },
  {
   "cell_type": "markdown",
   "id": "2eabcd88-6c55-4a31-9d54-9a19805d4c68",
   "metadata": {},
   "source": [
    "For probA,  $T(n) = n + 5*T(n/2)$,  1 < log2(5).  So, $T(n) \\in \\Theta(n^{\\log_2 5})$ \n",
    "\n",
    "For probB, $T(n) = a + b*n^2 + \\Theta(n^2) + 3 * T(n/2)$.\n",
    "\n",
    "Simplify this: $T(n) = n^2 + 3*T(n/2)$.    Because 2 > log_2(3), $T(n) \\in \\Theta(n^2)$\n"
   ]
  },
  {
   "cell_type": "markdown",
   "id": "8618facd-0e9b-4292-8387-f2e8ec7e89ee",
   "metadata": {},
   "source": [
    "probB is faster (when n is large)."
   ]
  },
  {
   "cell_type": "markdown",
   "id": "02e569a2-0975-4a18-bab6-978975c022de",
   "metadata": {},
   "source": [
    "### Additional lecture note: adding versus multiplying\n"
   ]
  },
  {
   "cell_type": "markdown",
   "id": "d7b3a982-06db-44c2-9300-53be85afbacb",
   "metadata": {
    "jupyter": {
     "source_hidden": true
    },
    "tags": []
   },
   "source": [
    "```python\n",
    "def foo(L):\n",
    "    ....\n",
    "```\n",
    "\n",
    "`T(n)` is the running time of foo when input size is `n` (number of items of `L`).\n",
    "\n",
    "\n",
    "What is `T(10)`?  the running time of foo when the input size is 10.  Suppose T(10) takes 3 minutes.\n",
    "\n",
    "What is `T(7)`?  the running time of foo when the input size is 7.  Suppose T(7) takes 2.5 minutes.\n",
    "\n",
    "\n",
    "\n",
    "Case 1: What is the running time in terms minutes of this? \n",
    "```python\n",
    "    foo(A) + foo(B)     # A has 10 items, B has 7 items.\n",
    "```\n",
    "\n",
    "\n",
    "Case 2: What is the running time in terms minutes of this?\n",
    "```python\n",
    "    foo(A) * foo(B)     # A has 10 items, B has 7 items.\n",
    "```"
   ]
  },
  {
   "cell_type": "markdown",
   "id": "e379ae8a-2f2f-43a5-990e-0ab2ec75138a",
   "metadata": {
    "jupyter": {
     "source_hidden": true
    },
    "tags": []
   },
   "source": [
    "Answer: \n",
    "* Case 1, 5.5 minutes.\n",
    "* Case 2, 5.5 or 7.5 minutes???\n",
    "\n",
    "Let's see what the computer does:\n",
    "* Case 1: first, \n",
    "    + (i) run foo(A): 3 minutes\n",
    "    + (ii) run foo(b): 2.5 minutes\n",
    "    + (iii) add whatever foo(A) and foo(B) returns: 1 second.\n",
    "    + total time: 3 + 2.5 = 5.5 minutes.\n",
    "* Case 1: first, \n",
    "    + (i) run foo(A): 3 minutes\n",
    "    + (ii) run foo(b): 2.5 minutes\n",
    "    + (iii) multiply whatever foo(A) and foo(B) returns: 2 seconds.\n",
    "    + total time: 3 + 2.5 = 5.5 minutes.\n",
    "        \n",
    "    \n"
   ]
  },
  {
   "cell_type": "code",
   "execution_count": null,
   "id": "96f6ad7e-d3fe-47af-89e8-626613995e60",
   "metadata": {},
   "outputs": [],
   "source": []
  },
  {
   "cell_type": "markdown",
   "id": "07ef4bc5-87c2-4aa6-b838-71225183f20a",
   "metadata": {},
   "source": [
    "---\n",
    "**Problem 6**\n",
    "\n",
    "Specify the running time equation, T(n), of the following program, and use the Master's theorem to find its complexity. Here are some details:\n",
    "\n",
    "* `t` the input has `n` nodes. \n",
    "* `t` is a fully balanced binary tree: its `left` subtree and `right` subtree have the same number of nodes.\n",
    "* The running time equation is `T(n)`, where `n` is the number of nodes of `t`.  "
   ]
  },
  {
   "cell_type": "code",
   "execution_count": 2,
   "id": "10802155-3c80-47db-9854-e150c4ae60ba",
   "metadata": {},
   "outputs": [],
   "source": [
    "import random\n",
    "\n",
    "def prob6( t ):\n",
    "    if t is None:\n",
    "        return 0\n",
    "    r = random.randint(1, 2)\n",
    "    if r==1:\n",
    "        return 1 + prob6(t.left)\n",
    "    else:\n",
    "        return 2 + prob6(t.right)"
   ]
  },
  {
   "cell_type": "markdown",
   "id": "b167dded-4743-43d2-9eac-479a3318e18f",
   "metadata": {},
   "source": [
    "ANSWER:\n",
    "\n",
    "$T(n) = a*n^0 + T(n/2)$.    0 = log2(1).   $T(n) \\in \\Theta(\\log n)$"
   ]
  },
  {
   "cell_type": "code",
   "execution_count": null,
   "id": "5f3ef054-f00d-4365-b179-bf7b5743ba46",
   "metadata": {},
   "outputs": [],
   "source": []
  }
 ],
 "metadata": {
  "kernelspec": {
   "display_name": "Python 3 (ipykernel)",
   "language": "python",
   "name": "python3"
  },
  "language_info": {
   "codemirror_mode": {
    "name": "ipython",
    "version": 3
   },
   "file_extension": ".py",
   "mimetype": "text/x-python",
   "name": "python",
   "nbconvert_exporter": "python",
   "pygments_lexer": "ipython3",
   "version": "3.9.12"
  }
 },
 "nbformat": 4,
 "nbformat_minor": 5
}
