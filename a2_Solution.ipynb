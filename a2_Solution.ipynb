{
 "cells": [
  {
   "cell_type": "markdown",
   "id": "b5f2da0e-4e85-4446-9271-cc35081b8404",
   "metadata": {},
   "source": [
    "### COMP 4030 assignment 2 \n",
    "#### Due: 09/21/2023 at 9AM\n",
    "\n",
    "Time now is 9:51AM."
   ]
  },
  {
   "cell_type": "markdown",
   "id": "19a73e16-7c85-4f7a-8985-188641c3b6eb",
   "metadata": {},
   "source": [
    "**NAME:** _____"
   ]
  },
  {
   "cell_type": "markdown",
   "id": "8ea0e4c6-6782-4702-9a71-fc8469732f37",
   "metadata": {},
   "source": [
    "---\n",
    "How to turn in your assignment:\n",
    "* Write your name in the file.\n",
    "* Export your notebook to an HTML file, and upload the HTML file to Canvas.\n",
    "\n",
    "Academic misconduct:\n",
    "* You must do these problems all by yourself. If you need help, reach out to the instructor or TA or both.  Do not use materials from online source or anyone else.\n",
    "* Your classmate can explain to you what to do, but your classmate should not give code/answer to you.  You should not give answers/code to your classmate.   Doing so violates the course's code of conduct."
   ]
  },
  {
   "cell_type": "markdown",
   "id": "ca31d091-540a-449d-a337-5539968c66fb",
   "metadata": {},
   "source": [
    "---\n",
    "**Problem 1**"
   ]
  },
  {
   "cell_type": "markdown",
   "id": "29ee1370-c53a-4b75-85ed-de6757587c10",
   "metadata": {},
   "source": [
    "Determine a lower bound complexity and upper bound complexity of the running time equation of this problem below.\n",
    "\n",
    "To do this you will have to specify the running time equation, T(n), of the program."
   ]
  },
  {
   "cell_type": "code",
   "execution_count": 1,
   "id": "069fbcfe-a1e7-45f8-928f-d95c586823a9",
   "metadata": {},
   "outputs": [],
   "source": [
    "def prob1(L):\n",
    "    s = 0\n",
    "    for x in L:\n",
    "        s += x\n",
    "        s *= 10 + x\n",
    "    for i in range(len(L)):                   \n",
    "        for j in range(i+1, len(L)):   # at most n iterations, and at least 1 iteration.  \n",
    "            s += L[i] * L[j]                 \n",
    "    return s"
   ]
  },
  {
   "cell_type": "markdown",
   "id": "a10eb1b0-5f71-4780-a05b-f4bc4805a405",
   "metadata": {},
   "source": [
    "**Answer:**"
   ]
  },
  {
   "cell_type": "markdown",
   "id": "5cc68088-85cd-4326-96cc-78d4d2929196",
   "metadata": {},
   "source": [
    "Each step is constant; it takes the same amount of time, regardless of input size.  Example: line 2 always takes the same amount of time on a machine, regardless of how big L is.\n",
    "\n",
    "Input size, conventionally called `n`, in this problem, is the number of items in L.\n",
    "\n",
    "One step might not take the same time as another step.  For example, line 2 and line 9 do not take the same amount of \"raw\" running time on a specific machine.\n",
    "\n",
    "Let's count the numbef of steps in prob1.\n",
    "* lines 2 and 9: `a` steps\n",
    "* lines 3-5: `b * n`\n",
    "    * `n` iterations (line 3)\n",
    "    * Each iteration takes `b` steps.  Why? Lines 4-5: `b` steps.\n",
    "* lines 6-8: at most `c * n^2`, and at least `c*n`\n",
    "    * Line 6-7:  at most `n^2` steps, and at least `n` steps.\n",
    "    * Line 8: `c` steps.\n",
    "\n",
    "` a + b*n + c*n < T(n) < a + b*n + c*n^2`\n",
    "\n"
   ]
  },
  {
   "cell_type": "markdown",
   "id": "d3982bb3-0a00-4aea-a92d-80c065062cd6",
   "metadata": {},
   "source": [
    "$T(n) > (b+c)*n$ for all `n>1`.   Therefore $T(n) \\in \\Omega(n)$"
   ]
  },
  {
   "cell_type": "markdown",
   "id": "b588c85f-ffc0-4938-841b-d3b87f0ec0bd",
   "metadata": {},
   "source": [
    "$T(n) < a + b*n + c*n^2 < an^2 + bn^2 + cn^2 = (a+b+c)*n^2$ for all `n>1`.   Therefore $T(n) \\in O(n^2)$\n"
   ]
  },
  {
   "cell_type": "markdown",
   "id": "faa8035c-52b8-4b4f-881b-094be071ebea",
   "metadata": {},
   "source": [
    "This lower bound is easy to get. You'll full credit for this answer.\n",
    "\n",
    "But a more comprehensive analysis will show that $T(n) \\in \\Omega(n^2)$.  In this case, we can say that $T(n) \\in \\Theta(n^2)$.\n"
   ]
  },
  {
   "cell_type": "markdown",
   "id": "792f7473-e7d1-4830-8b14-3cc8e0eead4f",
   "metadata": {},
   "source": [
    "---\n",
    "**Problem 2**"
   ]
  },
  {
   "cell_type": "markdown",
   "id": "447e93b7-18c6-4268-82b3-954e6c2f22a4",
   "metadata": {},
   "source": [
    "Use the definition of $O$ to show that $3n^5 + 4n \\in O(n^5)$."
   ]
  },
  {
   "cell_type": "markdown",
   "id": "d5e891b9-0c2b-4b52-8dc5-8af4c6d6b594",
   "metadata": {},
   "source": [
    "**Answer:**"
   ]
  },
  {
   "cell_type": "markdown",
   "id": "a690a58a-ec07-4ace-91b2-3480737fdcee",
   "metadata": {},
   "source": [
    "We'll use n^5 (because we want to show that n^5 is the upper bound) to upper bound the equation.\n",
    "\n",
    "$3n^5 + 4n \\le 3n^5 + 4n^5 = 7n^5$ for all $n>1$.   Therefore, with c=7, we have shown that $3n^5 + 4n \\in O(n^5)$.\n"
   ]
  },
  {
   "cell_type": "markdown",
   "id": "973aa132-264d-4370-bd07-9eec9f615c22",
   "metadata": {},
   "source": [
    "---\n",
    "**Problem 3**"
   ]
  },
  {
   "cell_type": "markdown",
   "id": "4b88e99d-0c2b-46f9-804e-76bcda3bc783",
   "metadata": {},
   "source": [
    "Find the running time equation of this program below and its tight bound complexity ($\\Theta$)."
   ]
  },
  {
   "cell_type": "code",
   "execution_count": 4,
   "id": "56f10196-a3e1-4f2d-819d-54b7a6cce806",
   "metadata": {},
   "outputs": [],
   "source": [
    "#\n",
    "# Input: A is a list of numbers, z is a number\n",
    "#\n",
    "def prob3(A, z):\n",
    "    output = []\n",
    "    for x in A:\n",
    "        for y in A:\n",
    "            if x+y==z:\n",
    "                output.append(z)\n",
    "    return output"
   ]
  },
  {
   "cell_type": "markdown",
   "id": "e1589648-ba36-4f00-a445-b2b99e7af1ce",
   "metadata": {},
   "source": [
    "**Answer:**"
   ]
  },
  {
   "cell_type": "markdown",
   "id": "8b98103a-2cf3-46ee-b883-d4f44cce80e6",
   "metadata": {},
   "source": [
    "`T(n) = a + b*n^2`\n",
    "\n",
    "* Lines 5 and 10: `a` steps\n",
    "* Lines 8-9: `b` steps\n",
    "* Lines 7-9: `b*n` steps\n",
    "* Lines 6-9: `b*n^2` steps"
   ]
  },
  {
   "cell_type": "markdown",
   "id": "7e77e73c-037e-40b3-8c72-8bbee0b59f81",
   "metadata": {},
   "source": [
    "$b*n^2 \\le T(n) \\le (a+b)*n^2$ for all $n>1$.  Therefore, $T(n) \\in \\Theta(n^2)$."
   ]
  },
  {
   "cell_type": "markdown",
   "id": "42142d90-25fa-482f-acc7-1e7e6f49a2e9",
   "metadata": {},
   "source": [
    "The lower-bound constant (certificate) is `b` and the upper bound constant is `a+b`."
   ]
  },
  {
   "cell_type": "markdown",
   "id": "7c06bd6a-01c0-4fd3-b8a1-f256553f2e7f",
   "metadata": {},
   "source": [
    "---\n",
    "\n",
    "In this assignment, we will use the following version of `collect`.\n",
    "\n",
    "In this version, the `transform` function has been integrated in `collect`, which takes one extra optional parameter, `transformer`.  The `transformer` function transform each selected item (one that satisfies the `condition` function).  If `transformer` is not specified in a function call, selected items are not transformed.\n",
    "\n",
    "Different applications call for different definitions of `condition` and `transformer`."
   ]
  },
  {
   "cell_type": "code",
   "execution_count": 9,
   "id": "8c6b5e85-edf8-447e-8637-b621e00bc573",
   "metadata": {},
   "outputs": [],
   "source": [
    "#\n",
    "# Input: a_list (a list of items)\n",
    "#        condition (a boolean function used to collect items)\n",
    "#        transformer (optional; used to transform collected items)\n",
    "# Output: a list of `transformed` items, which satisfy the `condition`\n",
    "#\n",
    "def collect(a_list, condition, transformer = lambda x: x):\n",
    "    output = []\n",
    "    for item in a_list:\n",
    "        if condition(item):\n",
    "            output.append(transformer(item))\n",
    "    return output\n"
   ]
  },
  {
   "cell_type": "code",
   "execution_count": 10,
   "id": "85d9340a-9b57-43d9-80d8-e610b52fdeff",
   "metadata": {},
   "outputs": [
    {
     "data": {
      "text/plain": [
       "[[0.0, 380.0, 3.61, 3.0],\n",
       " [1.0, 660.0, 3.67, 3.0],\n",
       " [1.0, 800.0, 4.0, 1.0],\n",
       " [1.0, 640.0, 3.19, 4.0],\n",
       " [0.0, 520.0, 2.93, 4.0]]"
      ]
     },
     "execution_count": 10,
     "metadata": {},
     "output_type": "execute_result"
    }
   ],
   "source": [
    "import pandas\n",
    "data = pandas.read_csv('admission.csv').values.tolist()\n",
    "data[0:5]"
   ]
  },
  {
   "cell_type": "markdown",
   "id": "47760ae1-f155-4306-b085-bbbd093e99ff",
   "metadata": {},
   "source": [
    "---\n",
    "**Problem 5**"
   ]
  },
  {
   "cell_type": "markdown",
   "id": "ba0e3629-09ce-48dd-8737-8e9ec29aede1",
   "metadata": {},
   "source": [
    "Use `collect` to find the average GPA and GRE of all data points.  Explain the main steps and show the work."
   ]
  },
  {
   "cell_type": "markdown",
   "id": "df11312f-97d2-4cf0-b9a2-8099598a0c01",
   "metadata": {},
   "source": [
    "**Answer:**"
   ]
  },
  {
   "cell_type": "markdown",
   "id": "c11c3803-2e9e-457d-852d-694ef5f38b6c",
   "metadata": {},
   "source": [
    "* Define a condition and a transformer and use it to get the 3rd values (GPA).\n",
    "* Define a condition and a transformer and use it to get the 2rd values (GPA).\n",
    "* Compute the averages once we get the GPAs and GREs.\n"
   ]
  },
  {
   "cell_type": "code",
   "execution_count": 15,
   "id": "df7a904f-e8f2-408c-b7e5-bc1108912a71",
   "metadata": {},
   "outputs": [
    {
     "name": "stdout",
     "output_type": "stream",
     "text": [
      "3.3899000000000017 587.7\n"
     ]
    }
   ],
   "source": [
    "# 1. using nameless functions\n",
    "gpas = collect(\n",
    "    data, \n",
    "    lambda data_point: True,\n",
    "    lambda data_point: data_point[2],\n",
    ")\n",
    "gres = collect(\n",
    "    data, \n",
    "    lambda data_point: True,\n",
    "    lambda data_point: data_point[1],\n",
    ")\n",
    "\n",
    "# 2. define condition and transformer explicitly\n",
    "# def always_true(data_point):\n",
    "#     return True\n",
    "\n",
    "# def get_gpa(data_point):\n",
    "#     return data_point[2]\n",
    "\n",
    "# gpas = collect(data, always_true, get_gpa)\n",
    "\n",
    "average_gpa = sum(gpas) / len(gpas)\n",
    "average_gre = sum(gres) / len(gres)\n",
    "\n",
    "print(average_gpa, average_gre)"
   ]
  },
  {
   "cell_type": "markdown",
   "id": "d1f64006-745d-4308-bf94-569d64f577e1",
   "metadata": {},
   "source": [
    "---\n",
    "**Problem 6**"
   ]
  },
  {
   "cell_type": "markdown",
   "id": "a34f4e6f-4cbe-4eac-a76f-cb23fa500220",
   "metadata": {},
   "source": [
    "Use `collect` to find the average GPA and GRE for each `rank` of the applicants' university. The last value in each data point is the rank of the applicant's university.  \n",
    "\n",
    "Do better universities have higher ranks or lower ranks?\n",
    "\n",
    "Explain the main steps and show the work."
   ]
  },
  {
   "cell_type": "markdown",
   "id": "10fadf3f-e0c1-4006-b049-20d78a703689",
   "metadata": {},
   "source": [
    "**Answer:**"
   ]
  },
  {
   "cell_type": "markdown",
   "id": "3b6f7c7e-5a40-4b25-914c-d6ecc2cec4fe",
   "metadata": {},
   "source": [
    "* Find GPA/GRE for each rank.  Use `condition` to get the ranks."
   ]
  },
  {
   "cell_type": "code",
   "execution_count": 19,
   "id": "d7894afb-b90a-4fab-88c6-83f396a659b0",
   "metadata": {},
   "outputs": [],
   "source": [
    "def is_rank1(data_point):\n",
    "    if data_point[3]==1:\n",
    "        return True\n",
    "    else:\n",
    "        return False\n",
    "    \n",
    "gpa_rank1 = collect(\n",
    "    data,\n",
    "    # lambda data_point: True if data_point[3]==1 else False,\n",
    "    is_rank1,\n",
    "    lambda data_point: data_point[2],\n",
    ")\n",
    "\n",
    "# gpa_rank1\n"
   ]
  },
  {
   "cell_type": "markdown",
   "id": "63b41de0-4e6b-40a9-b679-602046f24794",
   "metadata": {},
   "source": [
    "This is somewhat tedious. I'll clean this up a little"
   ]
  },
  {
   "cell_type": "code",
   "execution_count": 30,
   "id": "f9ebc1f5-3361-4579-97c2-ea8c146d3a8d",
   "metadata": {},
   "outputs": [
    {
     "name": "stdout",
     "output_type": "stream",
     "text": [
      "1 3.453114754098361 611.8032786885246\n",
      "2 3.361655629139072 596.0264900662252\n",
      "3 3.4328925619834694 574.8760330578513\n",
      "4 3.318358208955224 570.1492537313433\n"
     ]
    }
   ],
   "source": [
    "def get_rank(r):\n",
    "    def is_rank_r(data_point):\n",
    "        if data_point[3]==r:\n",
    "            return True\n",
    "        else:\n",
    "            return False\n",
    "    return is_rank_r\n",
    "\n",
    "# gpa_rank1 = collect(data, get_rank(1), lambda data_point: data_point[2])\n",
    "# gpa_rank2 = collect(data, get_rank(2), lambda data_point: data_point[2])\n",
    "# gpa_rank3 = collect(data, get_rank(3), lambda data_point: data_point[2])\n",
    "# gpa_rank4 = collect(data, get_rank(4), lambda data_point: data_point[2])\n",
    "\n",
    "def get_gpa(item):\n",
    "    return item[2]\n",
    "\n",
    "def get_gre(item):\n",
    "    return item[1]\n",
    "\n",
    "gpas = {r : collect(data, get_rank(r), get_gpa) for r in [1,2,3,4] }\n",
    "gres = {r : collect(data, get_rank(r), get_gre) for r in [1,2,3,4] }\n",
    "\n",
    "for r in gpas:\n",
    "    print(r, sum(gpas[r])/len(gpas[r]), sum(gres[r])/len(gres[r]))"
   ]
  },
  {
   "cell_type": "markdown",
   "id": "1018a880-358a-4ef0-bd83-dabbc77ae094",
   "metadata": {},
   "source": [
    "Better universities have lower ranks."
   ]
  },
  {
   "cell_type": "markdown",
   "id": "c8e565b9-acc5-4a5e-a39d-774fc13d422f",
   "metadata": {},
   "source": [
    "---\n",
    "**Problem 7**"
   ]
  },
  {
   "cell_type": "markdown",
   "id": "e67f3924-3694-4952-9aec-b0b891c6601e",
   "metadata": {},
   "source": [
    "Use `collect` to find applicants that were accepted to the graduate school but having *very low scores*. \n",
    "\n",
    "A `very low score` is one with \n",
    "1. GPA less than the average GPA of the worst ranked universities; and\n",
    "2. GRE less than the average GRE of the worst ranked universities.\n",
    "\n",
    "Explain the main steps and show the work.\n"
   ]
  },
  {
   "cell_type": "markdown",
   "id": "8a5be86c-849e-4a3b-9fcc-466d8a16cd93",
   "metadata": {},
   "source": [
    "**Answer:**"
   ]
  },
  {
   "cell_type": "markdown",
   "id": "68e11520-0d62-45db-95dd-ec45670ac09d",
   "metadata": {},
   "source": [
    "An applicant has very low scores if: (1) their GPA is less than 3.318 and (2) GRE is less than 570.15."
   ]
  },
  {
   "cell_type": "code",
   "execution_count": 32,
   "id": "94405a7d-aa1a-4370-b3cb-0ac83b29116a",
   "metadata": {},
   "outputs": [
    {
     "data": {
      "text/plain": [
       "[[1.0, 560.0, 2.98, 1.0],\n",
       " [1.0, 500.0, 3.13, 2.0],\n",
       " [1.0, 520.0, 2.68, 3.0],\n",
       " [1.0, 480.0, 2.67, 2.0],\n",
       " [1.0, 480.0, 2.91, 1.0],\n",
       " [1.0, 400.0, 3.23, 4.0],\n",
       " [1.0, 480.0, 3.02, 1.0],\n",
       " [1.0, 520.0, 3.3, 2.0],\n",
       " [1.0, 520.0, 3.19, 3.0],\n",
       " [1.0, 400.0, 3.15, 2.0],\n",
       " [1.0, 540.0, 3.17, 1.0],\n",
       " [1.0, 300.0, 2.84, 2.0],\n",
       " [1.0, 340.0, 3.0, 2.0],\n",
       " [1.0, 560.0, 2.65, 3.0],\n",
       " [1.0, 480.0, 2.62, 2.0]]"
      ]
     },
     "execution_count": 32,
     "metadata": {},
     "output_type": "execute_result"
    }
   ],
   "source": [
    "def is_very_low(item):\n",
    "    return item[1]<570.15 and item[2]<3.318 and item[0]==1\n",
    "\n",
    "low_score_applicants = collect(data, is_very_low)   # we use the default transformer\n",
    "low_score_applicants"
   ]
  },
  {
   "cell_type": "markdown",
   "id": "fda16848-a029-4db3-b7bb-6007672d1a70",
   "metadata": {},
   "source": [
    "---\n",
    "**Problem 8**"
   ]
  },
  {
   "cell_type": "markdown",
   "id": "db5f47e3-1679-4b0d-9fd1-932a6cc50432",
   "metadata": {},
   "source": [
    "Use `collect` to create a new dataset with one more column with values \"suspicious\" or \"normal\".  Applicants who were accepted to the graduate school but having `very low scores` are marked \"suspicious\". Otherwise, mark \"normal\".\n",
    "\n",
    "Explain the main steps and show the work.\n",
    "\n",
    "For example, the new dataset may look something like this:\n",
    "```\n",
    "[\n",
    "    (1, 800, 4.0, 1.0, 'normal'),\n",
    "    (1, 800, 1.0, 4.0, 'normal'),\n",
    "    (1, 400, 1.0, 3.0, 'suspicious'),\n",
    "]\n",
    "\n",
    "```"
   ]
  },
  {
   "cell_type": "markdown",
   "id": "32659701-cf18-4ddb-9b0b-3d9c5f674d0e",
   "metadata": {},
   "source": [
    "**Answer:**"
   ]
  },
  {
   "cell_type": "markdown",
   "id": "b2345d18-464a-45d6-aaed-fd2d73ce67ab",
   "metadata": {},
   "source": [
    "* Define the transformer appropriately."
   ]
  },
  {
   "cell_type": "code",
   "execution_count": 49,
   "id": "405183dc-29da-485c-80d9-3c112a926416",
   "metadata": {},
   "outputs": [
    {
     "data": {
      "text/plain": [
       "[[1.0, 660.0, 3.67, 3.0, 'normal'],\n",
       " [1.0, 800.0, 4.0, 1.0, 'normal'],\n",
       " [1.0, 640.0, 3.19, 4.0, 'normal'],\n",
       " [1.0, 760.0, 3.0, 2.0, 'normal'],\n",
       " [1.0, 560.0, 2.98, 1.0, 'suspicious'],\n",
       " [1.0, 540.0, 3.39, 3.0, 'normal'],\n",
       " [1.0, 760.0, 4.0, 1.0, 'normal'],\n",
       " [1.0, 700.0, 4.0, 1.0, 'normal'],\n",
       " [1.0, 540.0, 3.81, 1.0, 'normal'],\n",
       " [1.0, 660.0, 3.63, 2.0, 'normal'],\n",
       " [1.0, 760.0, 3.35, 2.0, 'normal'],\n",
       " [1.0, 800.0, 3.66, 1.0, 'normal'],\n",
       " [1.0, 620.0, 3.61, 1.0, 'normal'],\n",
       " [1.0, 520.0, 3.74, 4.0, 'normal'],\n",
       " [1.0, 780.0, 3.22, 2.0, 'normal'],\n",
       " [1.0, 800.0, 4.0, 3.0, 'normal'],\n",
       " [1.0, 500.0, 3.13, 2.0, 'suspicious'],\n",
       " [1.0, 520.0, 2.68, 3.0, 'suspicious'],\n",
       " [1.0, 580.0, 3.32, 2.0, 'normal'],\n",
       " [1.0, 600.0, 3.15, 2.0, 'normal'],\n",
       " [1.0, 460.0, 3.45, 3.0, 'normal'],\n",
       " [1.0, 580.0, 3.46, 2.0, 'normal'],\n",
       " [1.0, 680.0, 3.27, 2.0, 'normal'],\n",
       " [1.0, 740.0, 4.0, 3.0, 'normal'],\n",
       " [1.0, 620.0, 3.18, 2.0, 'normal'],\n",
       " [1.0, 680.0, 3.85, 3.0, 'normal'],\n",
       " [1.0, 800.0, 4.0, 3.0, 'normal'],\n",
       " [1.0, 620.0, 4.0, 1.0, 'normal'],\n",
       " [1.0, 500.0, 3.6, 3.0, 'normal'],\n",
       " [1.0, 660.0, 4.0, 2.0, 'normal'],\n",
       " [1.0, 720.0, 3.64, 1.0, 'normal'],\n",
       " [1.0, 660.0, 3.44, 2.0, 'normal'],\n",
       " [1.0, 660.0, 3.95, 2.0, 'normal'],\n",
       " [1.0, 740.0, 2.97, 2.0, 'normal'],\n",
       " [1.0, 700.0, 3.56, 1.0, 'normal'],\n",
       " [1.0, 440.0, 3.45, 2.0, 'normal'],\n",
       " [1.0, 800.0, 3.7, 1.0, 'normal'],\n",
       " [1.0, 520.0, 3.74, 2.0, 'normal'],\n",
       " [1.0, 480.0, 2.67, 2.0, 'suspicious'],\n",
       " [1.0, 600.0, 3.54, 1.0, 'normal'],\n",
       " [1.0, 620.0, 3.17, 2.0, 'normal'],\n",
       " [1.0, 600.0, 3.58, 1.0, 'normal'],\n",
       " [1.0, 700.0, 3.52, 4.0, 'normal'],\n",
       " [1.0, 480.0, 2.91, 1.0, 'suspicious'],\n",
       " [1.0, 800.0, 3.74, 1.0, 'normal'],\n",
       " [1.0, 640.0, 3.94, 2.0, 'normal'],\n",
       " [1.0, 580.0, 2.86, 4.0, 'normal'],\n",
       " [1.0, 480.0, 3.58, 1.0, 'normal'],\n",
       " [1.0, 700.0, 3.56, 2.0, 'normal'],\n",
       " [1.0, 800.0, 3.43, 2.0, 'normal'],\n",
       " [1.0, 620.0, 3.37, 2.0, 'normal'],\n",
       " [1.0, 620.0, 3.23, 3.0, 'normal'],\n",
       " [1.0, 540.0, 3.84, 2.0, 'normal'],\n",
       " [1.0, 640.0, 2.94, 2.0, 'normal'],\n",
       " [1.0, 600.0, 3.47, 2.0, 'normal'],\n",
       " [1.0, 400.0, 3.23, 4.0, 'suspicious'],\n",
       " [1.0, 580.0, 3.2, 2.0, 'normal'],\n",
       " [1.0, 700.0, 4.0, 1.0, 'normal'],\n",
       " [1.0, 600.0, 3.89, 1.0, 'normal'],\n",
       " [1.0, 780.0, 3.8, 3.0, 'normal'],\n",
       " [1.0, 640.0, 3.63, 1.0, 'normal'],\n",
       " [1.0, 600.0, 3.56, 2.0, 'normal'],\n",
       " [1.0, 660.0, 2.91, 3.0, 'normal'],\n",
       " [1.0, 460.0, 3.64, 1.0, 'normal'],\n",
       " [1.0, 560.0, 3.59, 2.0, 'normal'],\n",
       " [1.0, 480.0, 3.02, 1.0, 'suspicious'],\n",
       " [1.0, 720.0, 3.5, 3.0, 'normal'],\n",
       " [1.0, 720.0, 3.42, 2.0, 'normal'],\n",
       " [1.0, 800.0, 3.53, 1.0, 'normal'],\n",
       " [1.0, 660.0, 3.49, 2.0, 'normal'],\n",
       " [1.0, 520.0, 3.81, 1.0, 'normal'],\n",
       " [1.0, 680.0, 2.96, 3.0, 'normal'],\n",
       " [1.0, 520.0, 4.0, 2.0, 'normal'],\n",
       " [1.0, 540.0, 3.55, 4.0, 'normal'],\n",
       " [1.0, 740.0, 3.52, 4.0, 'normal'],\n",
       " [1.0, 520.0, 3.3, 2.0, 'suspicious'],\n",
       " [1.0, 620.0, 3.95, 3.0, 'normal'],\n",
       " [1.0, 520.0, 3.19, 3.0, 'suspicious'],\n",
       " [1.0, 620.0, 3.95, 3.0, 'normal'],\n",
       " [1.0, 520.0, 3.9, 3.0, 'normal'],\n",
       " [1.0, 600.0, 3.64, 3.0, 'normal'],\n",
       " [1.0, 680.0, 3.46, 2.0, 'normal'],\n",
       " [1.0, 640.0, 3.95, 2.0, 'normal'],\n",
       " [1.0, 680.0, 3.67, 2.0, 'normal'],\n",
       " [1.0, 600.0, 2.98, 2.0, 'normal'],\n",
       " [1.0, 580.0, 3.58, 1.0, 'normal'],\n",
       " [1.0, 680.0, 3.0, 4.0, 'normal'],\n",
       " [1.0, 660.0, 3.14, 2.0, 'normal'],\n",
       " [1.0, 440.0, 3.39, 2.0, 'normal'],\n",
       " [1.0, 800.0, 3.22, 1.0, 'normal'],\n",
       " [1.0, 660.0, 3.7, 4.0, 'normal'],\n",
       " [1.0, 620.0, 3.45, 2.0, 'normal'],\n",
       " [1.0, 660.0, 3.6, 3.0, 'normal'],\n",
       " [1.0, 400.0, 3.15, 2.0, 'suspicious'],\n",
       " [1.0, 680.0, 3.98, 2.0, 'normal'],\n",
       " [1.0, 540.0, 3.17, 1.0, 'suspicious'],\n",
       " [1.0, 520.0, 3.65, 4.0, 'normal'],\n",
       " [1.0, 300.0, 2.84, 2.0, 'suspicious'],\n",
       " [1.0, 340.0, 3.0, 2.0, 'suspicious'],\n",
       " [1.0, 780.0, 3.63, 4.0, 'normal'],\n",
       " [1.0, 480.0, 3.71, 4.0, 'normal'],\n",
       " [1.0, 560.0, 3.48, 2.0, 'normal'],\n",
       " [1.0, 460.0, 3.64, 3.0, 'normal'],\n",
       " [1.0, 620.0, 3.71, 1.0, 'normal'],\n",
       " [1.0, 660.0, 3.47, 3.0, 'normal'],\n",
       " [1.0, 560.0, 2.65, 3.0, 'suspicious'],\n",
       " [1.0, 780.0, 4.0, 2.0, 'normal'],\n",
       " [1.0, 580.0, 3.12, 3.0, 'normal'],\n",
       " [1.0, 540.0, 3.78, 2.0, 'normal'],\n",
       " [1.0, 760.0, 2.81, 1.0, 'normal'],\n",
       " [1.0, 560.0, 3.69, 3.0, 'normal'],\n",
       " [1.0, 520.0, 4.0, 1.0, 'normal'],\n",
       " [1.0, 540.0, 3.49, 1.0, 'normal'],\n",
       " [1.0, 560.0, 3.36, 1.0, 'normal'],\n",
       " [1.0, 540.0, 3.77, 2.0, 'normal'],\n",
       " [1.0, 680.0, 3.76, 3.0, 'normal'],\n",
       " [1.0, 680.0, 2.42, 1.0, 'normal'],\n",
       " [1.0, 620.0, 3.37, 1.0, 'normal'],\n",
       " [1.0, 800.0, 4.0, 2.0, 'normal'],\n",
       " [1.0, 540.0, 3.49, 2.0, 'normal'],\n",
       " [1.0, 480.0, 2.62, 2.0, 'suspicious'],\n",
       " [1.0, 740.0, 3.86, 2.0, 'normal'],\n",
       " [1.0, 800.0, 3.05, 2.0, 'normal'],\n",
       " [1.0, 660.0, 3.88, 2.0, 'normal'],\n",
       " [1.0, 600.0, 3.38, 3.0, 'normal'],\n",
       " [1.0, 620.0, 3.75, 2.0, 'normal'],\n",
       " [1.0, 460.0, 3.99, 3.0, 'normal']]"
      ]
     },
     "execution_count": 49,
     "metadata": {},
     "output_type": "execute_result"
    }
   ],
   "source": [
    "def marking_suspicious(item):\n",
    "    if item[1]<570.15 and item[2]<3.318:\n",
    "        return item + ['suspicious']\n",
    "    else:\n",
    "        return item + ['normal']\n",
    "\n",
    "def always_true(item):\n",
    "    return True\n",
    "\n",
    "#\n",
    "# collec all data points, which are accepted\n",
    "#\n",
    "suspicious_acceptance = collect(data, lambda item: item[0]==1, marking_suspicious)\n",
    "suspicious_acceptance"
   ]
  },
  {
   "cell_type": "code",
   "execution_count": null,
   "id": "5ac60d47-369f-401f-b406-47de282b74cd",
   "metadata": {},
   "outputs": [],
   "source": []
  },
  {
   "cell_type": "code",
   "execution_count": null,
   "id": "685f67bb-4130-4f18-b089-30052300c894",
   "metadata": {},
   "outputs": [],
   "source": []
  }
 ],
 "metadata": {
  "kernelspec": {
   "display_name": "Python 3 (ipykernel)",
   "language": "python",
   "name": "python3"
  },
  "language_info": {
   "codemirror_mode": {
    "name": "ipython",
    "version": 3
   },
   "file_extension": ".py",
   "mimetype": "text/x-python",
   "name": "python",
   "nbconvert_exporter": "python",
   "pygments_lexer": "ipython3",
   "version": "3.9.12"
  }
 },
 "nbformat": 4,
 "nbformat_minor": 5
}
