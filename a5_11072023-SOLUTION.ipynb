{
 "cells": [
  {
   "cell_type": "markdown",
   "id": "b5f2da0e-4e85-4446-9271-cc35081b8404",
   "metadata": {},
   "source": [
    "### COMP 4030 assignment 5 SOLUTION\n",
    "#### Due: 11/14/2023 at 9AM\n"
   ]
  },
  {
   "cell_type": "markdown",
   "id": "9440289e-1886-4de5-81cc-25df1b34443e",
   "metadata": {},
   "source": [
    "```\n",
    "exchange([5, 12, 20], 22) = exchange([5, 12, 20], 22-5) or  exchange([5, 12, 20], 22-12) or  exchange([5,12, 20], 22-20)  \n",
    "\n",
    "\n",
    "\n",
    "exchange([5, 12, 20], 17) = exchange([5, 12, 20], 17-5) or exchange([5, 12, 20], 17-12)\n",
    "\n",
    "```\n",
    "\n",
    "With this formulation, we cannot prevent the first coin 5 from being used more than once.\n",
    "\n",
    "Because of this, we need a different formulation of the problem.\n",
    "\n",
    "```python\n",
    "exchange(coins, m, i)\n",
    "```"
   ]
  },
  {
   "cell_type": "markdown",
   "id": "9e39fbfa-41df-446c-8dfa-7b4ba398e8c6",
   "metadata": {},
   "source": [
    "---\n",
    "**Question 1** (25 points)\n",
    "\n",
    "Given a list of coins, and an amount `M`, we want to know if it's possible to exchange for `M` using the coins.  Note that each coin is used at most once.  \n",
    "\n",
    "Example, coins = {5, 5, 12, 20} and M = 22.  The answer is True.  22 = 5 + 5 + 12.\n",
    "\n",
    "We will solve this problem using the dynamic programming technique.\n",
    "\n",
    "This starts with this specification (API):\n",
    "\n",
    "```\n",
    "exchange(coins, m, i) is True if we can exchange for the amount m by using only these coins: coins[0], ..., coins[i].\n",
    "```\n",
    "\n",
    "Example:\n",
    "\n",
    "+ exchange([5, 5, 12, 20], 25, 2) returns False, because it's not possible to exchange for 25 using 5, 5, and 12.\n",
    "\n",
    "+ exchange([5, 5, 12, 20], 25, 3) returns True, because it's possible to exchange for 25 using 5, 5, 12, and 20; namely, 25 = 5 + 20.\n",
    "\n",
    "Hints:\n",
    "\n",
    "+ To solve exchange(coins, m, i), here's the \"core logic. We consider coins[i] and ask if it is part of the exchange or not.  There are only 2 possibilities: (1) it's part of the exchange, or (2) it's not part of the exchange.   Design your program below to solve both of these cases below.\n",
    "\n",
    "+ Once we consider coins[i], we have reduced the problem to two subproblems, considering coins[i-1].  Use the same strategy to solve the subproblems.\n",
    "\n",
    "+ You'll need to solve the special cases that are not addressed by the core logic.\n",
    "\n"
   ]
  },
  {
   "cell_type": "markdown",
   "id": "f60f9e7a-c454-45f1-b8f4-025763c20b81",
   "metadata": {},
   "source": [
    "ANSWER:"
   ]
  },
  {
   "cell_type": "markdown",
   "id": "01f45bb3-781a-4d0a-bd98-c305590730a6",
   "metadata": {},
   "source": [
    "Suppose we want to know if `exchange(coins, 100, i)` is True or False.\n",
    "* True = possible to make change for 100 using coins 0, 1, ..., i\n",
    "* False = not possible to make change for 100 using coins 0, 1, ..., i\n",
    "\n",
    "\n",
    "Suppose `coins[i]` is 5 and we want to know if it's possible to make change for 100.  There are two cases:\n",
    "* We use this coin in making change for 100.  This can happen if we can exchange for 95 with the remaining coins.\n",
    "* We do not use this coin in making change for 100.  This can happen if we can exchange for 100 with the remaining coins.\n",
    "\n",
    "The logic is essentially this:\n",
    "```python\n",
    "\n",
    "exchange(coins, m, i) = exchange(coins, m-coins[i], i-1) or exchange(coins, m, i-1)\n",
    "```\n"
   ]
  },
  {
   "cell_type": "code",
   "execution_count": 14,
   "id": "4ddc5b72-ed3c-4d75-9b02-c0e7147f6fc3",
   "metadata": {
    "tags": []
   },
   "outputs": [],
   "source": [
    "def exchange(coins, m, i):\n",
    "    if m==0:\n",
    "        return True\n",
    "    if m<0 or i<0:\n",
    "        return False\n",
    "    \n",
    "    # we either use coins[i] or we don't. Either way, we can reduce\n",
    "    # to subproblem:  i-1 \n",
    "    return exchange(coins, m-coins[i], i-1) or exchange(coins, m, i-1)\n"
   ]
  },
  {
   "cell_type": "code",
   "execution_count": 12,
   "id": "12530793-1a84-403b-8498-c80cf0ac7ebc",
   "metadata": {},
   "outputs": [
    {
     "data": {
      "text/plain": [
       "True"
      ]
     },
     "execution_count": 12,
     "metadata": {},
     "output_type": "execute_result"
    }
   ],
   "source": [
    "exchange([5, 8, 12], 13, 2)  #i=2, coins[i]=12"
   ]
  },
  {
   "cell_type": "code",
   "execution_count": 18,
   "id": "12ba5497-818e-45d8-b630-b7668fc03b6d",
   "metadata": {},
   "outputs": [
    {
     "name": "stdout",
     "output_type": "stream",
     "text": [
      "0 False\n",
      "1 False\n",
      "2 True\n",
      "3 True\n"
     ]
    }
   ],
   "source": [
    "for i in range(4):\n",
    "    print(i, exchange([5, 5, 12, 20], 22, i))"
   ]
  },
  {
   "cell_type": "code",
   "execution_count": null,
   "id": "9169c6d2-a700-406f-a0f6-35dab8d60b12",
   "metadata": {},
   "outputs": [],
   "source": []
  },
  {
   "cell_type": "markdown",
   "id": "b7eec00b-fcc4-4e22-b2c9-d0e9c833ed08",
   "metadata": {},
   "source": [
    "---\n",
    "**Problem 2**  (10 points)\n",
    "\n",
    "Use a table to store outputs so subproblems are not repeatedly calculated."
   ]
  },
  {
   "cell_type": "markdown",
   "id": "22de5fff-d787-4e6f-813b-e8dcaf12ba39",
   "metadata": {},
   "source": [
    "ANSWER:"
   ]
  },
  {
   "cell_type": "code",
   "execution_count": null,
   "id": "fac400ce-8494-4e58-a34c-bd36dc90ff8c",
   "metadata": {},
   "outputs": [],
   "source": [
    "Table = {}\n",
    "def exchange(coins, m, i):\n",
    "    if (m,i) in Table:\n",
    "        return Table[(m,i)]\n",
    "    if m==0:\n",
    "        # Table[0] = True\n",
    "        # (we can skip this as it doesn't save us time)\n",
    "        return True\n",
    "    if m<0 or i<0:\n",
    "        # Table[(m,i)] = False  \n",
    "        # (we can skip this as it doesn't save us time)\n",
    "        return False\n",
    "    output = exchange(coins, m-coins[i], i-1) or exchange(coins, m, i-1)\n",
    "    Table[(m, i)] = output\n",
    "    return output\n",
    "\n"
   ]
  },
  {
   "cell_type": "markdown",
   "id": "a20904d8-3406-4966-b19a-452d849a72c0",
   "metadata": {},
   "source": [
    "Encapsulating Table inside a limited scope."
   ]
  },
  {
   "cell_type": "code",
   "execution_count": 20,
   "id": "890e7add-8e96-4e3b-9ff4-f5878dce8f8b",
   "metadata": {},
   "outputs": [
    {
     "name": "stdout",
     "output_type": "stream",
     "text": [
      "0 False\n",
      "1 False\n",
      "2 True\n",
      "3 True\n"
     ]
    }
   ],
   "source": [
    "def exchange(coins, m, i):\n",
    "    def foo(m, i):\n",
    "        if (m,i) in Table:\n",
    "            return Table[(m,i)]\n",
    "        if m==0:\n",
    "            return True\n",
    "        if m<0 or i<0:\n",
    "            return False\n",
    "        output = foo(m-coins[i], i-1) or foo(m, i-1)\n",
    "        Table[(m, i)] = output\n",
    "        return output\n",
    "    \n",
    "    Table = {}\n",
    "    return foo(m, i)\n",
    "\n",
    "for i in range(4):\n",
    "    print(i, exchange([5, 5, 12, 20], 22, i))"
   ]
  },
  {
   "cell_type": "markdown",
   "id": "42b67174-c015-4585-b6ad-04f1c4d8df71",
   "metadata": {},
   "source": [
    "---\n",
    "\n",
    "**Problem 3**  (25 points)\n",
    "\n",
    "\n",
    "Given a 2D grid, design and implement the program **count_paths(m,n)** that returns the number of ways a robot can move from position (m,n), which is the top right corner on the grid, to position (1,1), which is the bottom left corner of the grid.\n",
    "\n",
    "The constraint is the robot can only move left and down; from position (5,4) for example, it can only move left to (4,4) or move down to (5,3).\n",
    "\n",
    "As an example, **count_paths(2,2)** should return 2 because there are only two ways to move from position (2,2) to position (1,1).\n",
    "\n",
    "In this problem, you have an opportunity to apply the technique we've learned:\n",
    "\n",
    "+ Consider first move to be made.\n",
    "+ Analyze the possibilities.\n",
    "+ Each possibility should reduce the problem to a subproblem (which is the same problem but is smaller in input size).\n",
    "+ Use the same method/strategy to solve the subproblem.\n",
    "+ Make sure all special cases (when you can't reduce to a subproblem) are taken care of.\n",
    "\n",
    "In this figure below, we start from (7,3), and try to get to (1,1).\n",
    "<img src=\"https://i.imgur.com/75jsBWm.png\">"
   ]
  },
  {
   "cell_type": "markdown",
   "id": "3d902540-e235-406f-9d0d-71fde0a228bf",
   "metadata": {},
   "source": [
    "ANSWER:"
   ]
  },
  {
   "cell_type": "code",
   "execution_count": null,
   "id": "216aebdb-2f2e-48af-b0f3-955e5061f019",
   "metadata": {},
   "outputs": [],
   "source": []
  },
  {
   "cell_type": "code",
   "execution_count": 21,
   "id": "cff27189-d1fc-471b-8ace-9a9cc82bac02",
   "metadata": {},
   "outputs": [],
   "source": [
    "#\n",
    "# Output: the number of ways to move from (m,n) to (1,1)\n",
    "#\n",
    "def count_paths(m, n):\n",
    "    if m==1 or n==1:\n",
    "        return 1\n",
    "    return count_paths(m-1, n) + count_paths(m, n-1)"
   ]
  },
  {
   "cell_type": "code",
   "execution_count": 22,
   "id": "45857b14-8128-4462-821b-e31085edbe6d",
   "metadata": {},
   "outputs": [
    {
     "name": "stdout",
     "output_type": "stream",
     "text": [
      "1 1 1\n",
      "2 2 2\n",
      "3 3 6\n",
      "7 3 28\n"
     ]
    }
   ],
   "source": [
    "for m,n in [(1,1),(2,2),(3,3),(7,3)]:\n",
    "    print(m,n,count_paths(m,n))"
   ]
  },
  {
   "cell_type": "markdown",
   "id": "889dc4a0-7cda-4533-81f0-1d6b534f5c9e",
   "metadata": {},
   "source": [
    "---\n",
    "\n",
    "**Problem 4**  (10 points)\n",
    "\n",
    "Use a table to store outputs so subproblems are not repeatedly calculated."
   ]
  },
  {
   "cell_type": "markdown",
   "id": "814ca0eb-6afb-4166-81c2-28ae24beca6a",
   "metadata": {},
   "source": [
    "ANSWER:"
   ]
  },
  {
   "cell_type": "code",
   "execution_count": 23,
   "id": "35943973-160e-4f6c-81ec-adc7ae09ff99",
   "metadata": {},
   "outputs": [
    {
     "name": "stdout",
     "output_type": "stream",
     "text": [
      "1 1 1\n",
      "2 2 2\n",
      "3 3 6\n",
      "7 3 28\n"
     ]
    }
   ],
   "source": [
    "Table = {}\n",
    "def count_paths(m, n):\n",
    "    if (m,n) in Table:\n",
    "        return Table[m, n]\n",
    "    \n",
    "    if m==1 or n==1:\n",
    "        return 1\n",
    "    output = count_paths(m-1, n) + count_paths(m, n-1)\n",
    "    Table[m,n] = output\n",
    "    return output\n",
    "\n",
    "for m,n in [(1,1),(2,2),(3,3),(7,3)]:\n",
    "    print(m,n,count_paths(m,n))"
   ]
  },
  {
   "cell_type": "markdown",
   "id": "fa82483f-f17e-415b-95c3-91af2ff2f841",
   "metadata": {},
   "source": [
    "---\n",
    "\n",
    "**Problem 5**  (25 points)\n",
    "\n",
    "In this version, **count_paths** has an extra input called **obstacles**, which is a list of coordinates of obstacles.  The robot cannot move through an obstacle.\n",
    "\n",
    "Examples:\n",
    "\n",
    "+ **count_paths(2, 2, [(2,1)])** returns 1.  There's only 1 path from (2,2) to (1,1); the robot cannot move through (2,1).\n",
    "\n",
    "+ **count_paths(2, 2, [(2,1), (1,2)])** returns 0.  There's no path from (2,2) to (1,1), with the obstacles at (2,1) and (1,2).\n",
    "\n",
    "As visual example, the figure below shows the robot starting from (7,3), trying to get to (1,1) while avoiding two obstacles at (3,2) and (5,1).  \n",
    "\n",
    "The call **count_paths(7, 3, [(3,2), (5,1)])** should return the number of paths from (7,3) to (1,1) given the coordinates of the two obstacles.\n",
    "\n",
    "\n",
    "<img src=\"https://i.imgur.com/xNoHWaf.png\">"
   ]
  },
  {
   "cell_type": "markdown",
   "id": "1bf579c9-a135-434a-a0f3-dd3086a52878",
   "metadata": {},
   "source": [
    "ANSWER:"
   ]
  },
  {
   "cell_type": "code",
   "execution_count": 34,
   "id": "1e97e1fd-0e20-4fe4-9575-59657502a870",
   "metadata": {},
   "outputs": [
    {
     "name": "stdout",
     "output_type": "stream",
     "text": [
      "1\n",
      "0\n",
      "7\n"
     ]
    }
   ],
   "source": [
    "#\n",
    "# Output: the number of ways to move from (m,n) to (1,1)\n",
    "#         without going through the obstacles\n",
    "#\n",
    "def count_paths(m, n, obstacles):\n",
    "    if m==1 and n==1:\n",
    "        return 1\n",
    "    \n",
    "    going_left = 0\n",
    "    going_down = 0\n",
    "    if m>1 and (m-1,n) not in obstacles:\n",
    "        going_left = count_paths(m-1, n, obstacles)\n",
    "    if n>1 and (m,n-1) not in obstacles:\n",
    "        going_down = count_paths(m, n-1, obstacles)\n",
    "    return going_left + going_down\n",
    "\n",
    "\n",
    "print(count_paths(2, 2, [(2,1)]))\n",
    "print(count_paths(2, 2, [(2,1), (1,2)]))\n",
    "print(count_paths(7, 3, [(3,2), (5,1)]))"
   ]
  },
  {
   "cell_type": "markdown",
   "id": "dd3b69c0-b967-4ae8-8c47-a39c174a7bd8",
   "metadata": {},
   "source": [
    "---\n",
    "\n",
    "**Problem 6** (10 points)\n",
    "\n",
    "Use a table to store outputs so subproblems are not repeatedly calculated."
   ]
  },
  {
   "cell_type": "markdown",
   "id": "e7ee0d61-f9e6-47c7-9019-8b2abce98572",
   "metadata": {},
   "source": [
    "ANSWER:"
   ]
  },
  {
   "cell_type": "code",
   "execution_count": 42,
   "id": "e9cf7e89-a109-4046-b3bb-c307a9e00d5b",
   "metadata": {},
   "outputs": [
    {
     "name": "stdout",
     "output_type": "stream",
     "text": [
      "7\n"
     ]
    }
   ],
   "source": [
    "def count_paths(m, n, obstacles):\n",
    "    if (m,n) in Table:\n",
    "        return Table[m,n]\n",
    "    \n",
    "    if m==1 and n==1:\n",
    "        return 1\n",
    "    \n",
    "    going_left = 0\n",
    "    going_down = 0\n",
    "    if m>1 and (m-1,n) not in obstacles:\n",
    "        going_left = count_paths(m-1, n, obstacles)\n",
    "    if n>1 and (m,n-1) not in obstacles:\n",
    "        going_down = count_paths(m, n-1, obstacles)\n",
    "    output = going_left + going_down\n",
    "    Table[m,n] = output\n",
    "    return output\n",
    "    \n",
    "Table = {}\n",
    "# print(count_paths(2, 2, [(2,1)]))\n",
    "# print(count_paths(2, 2, [(2,1), (1,2)]))\n",
    "print(count_paths(7, 3, [(3,2), (5,1)]))"
   ]
  },
  {
   "cell_type": "markdown",
   "id": "b25f10d1-fde4-4560-a6d8-863a3fa0c703",
   "metadata": {},
   "source": [
    "We should encapsulate Table within a limited scope (not as a global variable)."
   ]
  },
  {
   "cell_type": "code",
   "execution_count": null,
   "id": "78c3eac4-bf07-463a-be48-c7e728a4d347",
   "metadata": {},
   "outputs": [],
   "source": []
  }
 ],
 "metadata": {
  "kernelspec": {
   "display_name": "Python 3 (ipykernel)",
   "language": "python",
   "name": "python3"
  },
  "language_info": {
   "codemirror_mode": {
    "name": "ipython",
    "version": 3
   },
   "file_extension": ".py",
   "mimetype": "text/x-python",
   "name": "python",
   "nbconvert_exporter": "python",
   "pygments_lexer": "ipython3",
   "version": "3.9.12"
  }
 },
 "nbformat": 4,
 "nbformat_minor": 5
}
