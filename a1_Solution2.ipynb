{
 "cells": [
  {
   "cell_type": "markdown",
   "id": "b5f2da0e-4e85-4446-9271-cc35081b8404",
   "metadata": {},
   "source": [
    "### COMP 4030 assignment 1 SOLUTION\n",
    "#### Due: 09/12/2023 at 9AM"
   ]
  },
  {
   "cell_type": "markdown",
   "id": "8ea0e4c6-6782-4702-9a71-fc8469732f37",
   "metadata": {},
   "source": [
    "---\n",
    "How to turn in your assignment:\n",
    "* Write your name in the file.\n",
    "* Export your notebook to an HTML file, and upload the HTML file to Canvas.\n",
    "\n",
    "Academic misconduct:\n",
    "* You must do these problems all by yourself. If you need help, reach out to the instructor or TA or both.  Do not use materials from online source or anyone else.\n",
    "* Your classmate can explain to you what to do, but your classmate should not give code/answer to you.  You should not give answers/code to your classmate.   Doing so violates the course's code of conduct."
   ]
  },
  {
   "cell_type": "markdown",
   "id": "d97a4ba0-3134-48a6-bc4e-f0bca57d44a4",
   "metadata": {},
   "source": [
    "Instruction:\n",
    "* In this part of the assignment, you will use the two functions we defined in class `collect` and `transform` to process some data.  **You must use either one, or both to do the problems below**.  Additionally, you might need to provide additional computation to solve these problems.\n",
    "* The data you will use has 400 data points. Each data point has 4 values: admission decision to a graduate school (1 accepted, 0 not accepted), GRE score, GPA, and rank of the universiy the student is from.\n",
    "* I've created a variable `data` for you to manipulate.  You can think of `data` as a list of data points."
   ]
  },
  {
   "cell_type": "markdown",
   "id": "93bd6894-3f95-4978-b8e8-c02b00ce579b",
   "metadata": {
    "tags": []
   },
   "source": [
    "---\n",
    "### Overview\n",
    "The goal of this assignment is to review and practice basic programming skills.\n",
    "\n",
    "Prerequisite: Know Python and have programming skills at the level of 2150.\n",
    "\n",
    "The topics are:\n",
    "* Loop, iteration, iterative design patterns\n",
    "* List processing and manipulation\n",
    "* Functions as input\n",
    "* Understanding iterative designs without actually writing loop; instead use `collect`, `transform`, `sum`, `max`, etc.\n",
    "\n",
    "Another important skill to practice and improve is **describing your work**.\n",
    "* Communicate clearly in both English and Python.\n",
    "* Write in a logical and coherent way so people can read it easily.\n",
    "* Write in complete sentences.\n",
    "* Be concise.\n"
   ]
  },
  {
   "cell_type": "markdown",
   "id": "f6d71acd-c3f7-41b4-8c40-cf0a0afe9219",
   "metadata": {},
   "source": [
    "---"
   ]
  },
  {
   "cell_type": "markdown",
   "id": "6c674421-6e2e-4be0-8f1b-1edb63a789f2",
   "metadata": {},
   "source": [
    "**If you didn't have the file in the correct place, you wouldn't be able to open it.**\n",
    "\n",
    "**Understand error messages**.\n",
    "\n"
   ]
  },
  {
   "cell_type": "code",
   "execution_count": 1,
   "id": "47493a45-9be2-49a8-98d2-af3da2dd1de3",
   "metadata": {},
   "outputs": [
    {
     "data": {
      "text/plain": [
       "[[0.0, 380.0, 3.61, 3.0],\n",
       " [1.0, 660.0, 3.67, 3.0],\n",
       " [1.0, 800.0, 4.0, 1.0],\n",
       " [1.0, 640.0, 3.19, 4.0],\n",
       " [0.0, 520.0, 2.93, 4.0]]"
      ]
     },
     "execution_count": 1,
     "metadata": {},
     "output_type": "execute_result"
    }
   ],
   "source": [
    "import pandas\n",
    "data = pandas.read_csv('admission.csv').values.tolist()\n",
    "data[0:5]"
   ]
  },
  {
   "cell_type": "markdown",
   "id": "903aaf44-1716-45d6-af8f-bcefe016755a",
   "metadata": {},
   "source": [
    "---\n",
    "\n",
    "**First thing first**\n",
    "\n",
    "**Get \"collect\" and \"transform\" to this notebook.**"
   ]
  },
  {
   "cell_type": "code",
   "execution_count": 2,
   "id": "ac4b3bb7-7746-438a-8181-77c9757ec42e",
   "metadata": {},
   "outputs": [],
   "source": [
    "def collect(a_list, condition):\n",
    "    output = []\n",
    "    for item in a_list:\n",
    "        if condition(item):\n",
    "            output.append(item)\n",
    "    return output\n",
    "\n",
    "def transform(a_list, transformer):\n",
    "    output = []\n",
    "    for item in a_list:\n",
    "        output.append(transformer(item))   \n",
    "    return output\n",
    "    "
   ]
  },
  {
   "cell_type": "markdown",
   "id": "d0214475-5242-4879-81f2-c6f082c49d0e",
   "metadata": {},
   "source": [
    "---\n",
    "**Problem 1**\n",
    "\n",
    "Find all data points with GPA larger than 3.5.  How many of them are there?\n",
    "\n",
    "Be sure to answer the question(s) asked, and do what is asked. Explain your answers in English, and provide Python code to solve the problem. Be sure to read the instruction above.\n",
    "\n",
    "\n",
    "Note: the \"data\" is a list of data points. Each data point is itself a list."
   ]
  },
  {
   "cell_type": "markdown",
   "id": "e2c7a881-206b-4e98-a27d-f78a072de0d7",
   "metadata": {},
   "source": [
    "**ANSWER:**"
   ]
  },
  {
   "cell_type": "markdown",
   "id": "26d14681-eca3-4f50-a7f5-93d4eb849ae6",
   "metadata": {},
   "source": [
    "The first task is to **collect all data points with GPA larger than 3.5**.\n",
    "\n",
    "We must define the \"condition\" function to use `collect`.\n",
    "\n",
    "Test this condition with a few sample data points.\n",
    "\n",
    "There are 156 data points with GPA larger than 3.5.\n",
    "\n",
    "See the code below."
   ]
  },
  {
   "cell_type": "code",
   "execution_count": 10,
   "id": "2cacb261-b6cd-4780-827e-003802c3b831",
   "metadata": {},
   "outputs": [
    {
     "name": "stdout",
     "output_type": "stream",
     "text": [
      "[[0.0, 380.0, 3.61, 3.0], [1.0, 660.0, 3.67, 3.0], [1.0, 800.0, 4.0, 1.0], [0.0, 700.0, 3.92, 2.0], [0.0, 800.0, 4.0, 4.0]]\n",
      "156\n"
     ]
    }
   ],
   "source": [
    "def good_GPA(item):\n",
    "    if item[2]>3.5:\n",
    "        return True\n",
    "    else:\n",
    "        return False\n",
    "    \n",
    "# good_GPA([1.0, 660.0, 3.27, 3.0])\n",
    "\n",
    "selected_data = collect(data, good_GPA)\n",
    "print(selected_data[0:5])\n",
    "print(len(selected_data))\n"
   ]
  },
  {
   "cell_type": "markdown",
   "id": "f232d0d7-3432-49b2-959b-2d9fc23c3974",
   "metadata": {},
   "source": [
    "---\n",
    "**Problem 2**\n",
    "\n",
    "How many applicants with GPA less than 3.5 and get accepted to the graduate school?\n",
    "\n",
    "Be sure to answer the question(s) asked, and do what is asked. Explain your answers in English, and provide Python code to solve the problem. Be sure to read the instruction above."
   ]
  },
  {
   "cell_type": "markdown",
   "id": "c0817688-132f-4d85-8687-a938585b0f88",
   "metadata": {},
   "source": [
    "**ANSWER:**"
   ]
  },
  {
   "cell_type": "markdown",
   "id": "e112706e-68fd-4ffb-854c-62a35db938cc",
   "metadata": {},
   "source": [
    "Here are the subtasks:\n",
    "+ Define `condition` (for `collect`).\n",
    "+ Use `collect` to get the data and count.\n",
    "\n",
    "There are 59 applicants accepted with GPA less than 3.5.\n",
    "\n",
    "See the code below."
   ]
  },
  {
   "cell_type": "code",
   "execution_count": 19,
   "id": "10d60051-20f7-4ecd-9cb9-1ea659405ea5",
   "metadata": {},
   "outputs": [
    {
     "data": {
      "text/plain": [
       "[[1.0, 640.0, 3.19, 4.0],\n",
       " [1.0, 760.0, 3.0, 2.0],\n",
       " [1.0, 560.0, 2.98, 1.0],\n",
       " [1.0, 540.0, 3.39, 3.0],\n",
       " [1.0, 760.0, 3.35, 2.0]]"
      ]
     },
     "execution_count": 19,
     "metadata": {},
     "output_type": "execute_result"
    }
   ],
   "source": [
    "def new_condition(item):\n",
    "    gpa, decision = item[2], item[0]\n",
    "    if (gpa<3.5) and (decision==1):\n",
    "        return True\n",
    "    else:\n",
    "        return False\n",
    "    \n",
    "selected_data = collect(data, new_condition)\n",
    "selected_data[0:5]"
   ]
  },
  {
   "cell_type": "code",
   "execution_count": 20,
   "id": "dee3f0f1-e986-4b70-a44c-457174d7c021",
   "metadata": {},
   "outputs": [
    {
     "name": "stdout",
     "output_type": "stream",
     "text": [
      "There are 59 data points.\n"
     ]
    }
   ],
   "source": [
    "print('There are', len(selected_data), 'data points.')"
   ]
  },
  {
   "cell_type": "markdown",
   "id": "a934eaeb-55d5-472a-96b3-9592e5752244",
   "metadata": {},
   "source": [
    "---\n",
    "**Problem 3**\n",
    "\n",
    "Find the average rank of the university of applicants who get accepted to the graduate school.\n",
    "\n",
    "Be sure to answer the question(s) asked, and do what is asked. Explain your answers in English, and provide Python code to solve the problem. Be sure to read the instruction above."
   ]
  },
  {
   "cell_type": "markdown",
   "id": "73adbffa-3f5d-40e9-8852-92b3c74e0080",
   "metadata": {},
   "source": [
    "**ANSWER:**\n",
    "\n",
    "The main steps are:\n",
    "1. Get the selected applicants.\n",
    "2. Use `transform` to transform each \"item\" to only the rank of the item.\n",
    "3. Compute the average.\n",
    "\n",
    "See the code below."
   ]
  },
  {
   "cell_type": "code",
   "execution_count": 37,
   "id": "01808d9f-45ae-464b-821c-1e9e2814cb7f",
   "metadata": {},
   "outputs": [],
   "source": [
    "def is_accepted(item):\n",
    "    return item[0]==1\n",
    "\n",
    "accepted_applicants = collect(data, is_accepted)"
   ]
  },
  {
   "cell_type": "code",
   "execution_count": 38,
   "id": "3dc8d6f2-6a03-4f8b-accc-d0d0aa997894",
   "metadata": {},
   "outputs": [
    {
     "name": "stdout",
     "output_type": "stream",
     "text": [
      "2.1496062992125986\n"
     ]
    }
   ],
   "source": [
    "# using list comprehension\n",
    "ranks = [ item[-1] for item in accepted_applicants]\n",
    "\n",
    "# using transform\n",
    "def get_rank(item):\n",
    "    return item[-1]\n",
    "\n",
    "selected_data = transform(accepted_applicants, get_rank)\n",
    "selected_data[0:5]\n",
    "print(sum(selected_data) / len(selected_data))"
   ]
  },
  {
   "cell_type": "code",
   "execution_count": 39,
   "id": "55061124-ef4c-4279-ae03-5e1f15d002da",
   "metadata": {},
   "outputs": [
    {
     "data": {
      "text/plain": [
       "[[1.0, 660.0, 3.67, 3.0],\n",
       " [1.0, 800.0, 4.0, 1.0],\n",
       " [1.0, 640.0, 3.19, 4.0],\n",
       " [1.0, 760.0, 3.0, 2.0],\n",
       " [1.0, 560.0, 2.98, 1.0]]"
      ]
     },
     "execution_count": 39,
     "metadata": {},
     "output_type": "execute_result"
    }
   ],
   "source": [
    "accepted_applicants[0:5]"
   ]
  },
  {
   "cell_type": "markdown",
   "id": "ec629d59-de84-4acd-880a-65493ad9a5c1",
   "metadata": {},
   "source": [
    "---\n",
    "**Problem 4**\n",
    "\n",
    "Find the maximum GPA and GRE.  Hint: you can use Python built-in `max` function together with `collect` or `transform` or both.\n",
    "\n",
    "Be sure to answer the question(s) asked, and do what is asked. Explain your answers in English, and provide Python code to solve the problem. Be sure to read the instruction above.\n",
    " \n",
    "Note: max([1,2,3,4]) returns 4."
   ]
  },
  {
   "cell_type": "markdown",
   "id": "d266626d-84d5-468a-a1ab-9270da2402bb",
   "metadata": {},
   "source": [
    "**ANSWER:**"
   ]
  },
  {
   "cell_type": "markdown",
   "id": "c0b1dd4f-460a-47f8-81e7-1544b7c70da9",
   "metadata": {},
   "source": [
    "We will use `transform` to transform each item in the original data appropriately:\n",
    "* To get the GREs, we transform each item to a single number (GRE).\n",
    "* We do this similarly for GPAs.\n",
    "\n",
    "The max GRE is 800, GPA is 4.0."
   ]
  },
  {
   "cell_type": "code",
   "execution_count": 45,
   "id": "841df8e5-5e79-4e6e-8997-4e16d403bf29",
   "metadata": {},
   "outputs": [
    {
     "name": "stdout",
     "output_type": "stream",
     "text": [
      "800.0 4.0\n"
     ]
    }
   ],
   "source": [
    "gres = transform(data, lambda item: item[1])\n",
    "gpas = transform(data, lambda item: item[2])\n",
    "print(max(gres), max(gpas))"
   ]
  },
  {
   "cell_type": "code",
   "execution_count": 40,
   "id": "8bd6632c-dba6-4666-8af2-da2727804e4c",
   "metadata": {},
   "outputs": [
    {
     "data": {
      "text/plain": [
       "[[0.0, 380.0, 3.61, 3.0],\n",
       " [1.0, 660.0, 3.67, 3.0],\n",
       " [1.0, 800.0, 4.0, 1.0],\n",
       " [1.0, 640.0, 3.19, 4.0],\n",
       " [0.0, 520.0, 2.93, 4.0]]"
      ]
     },
     "execution_count": 40,
     "metadata": {},
     "output_type": "execute_result"
    }
   ],
   "source": [
    "data[0:5]"
   ]
  },
  {
   "cell_type": "markdown",
   "id": "1f80f8dd-d6d1-4616-b445-8f641b4a8098",
   "metadata": {},
   "source": [
    "---\n",
    "**Problem 5**\n",
    "\n",
    "Create a new data set with one additional field (representing \"normalized academic performance\"), which is the normalized average of GPA and GRE scores.\n",
    "\n",
    "To normalize GPA (or GRE scores), divide each data point by the maximum value.  In other words, for each data point:\n",
    "```\n",
    "performance = 0.5 * (gre/max_gre + gpa/max_gpa)\n",
    "```"
   ]
  },
  {
   "cell_type": "markdown",
   "id": "d06237d2-8615-401f-9226-798864762876",
   "metadata": {},
   "source": [
    "### an example\n",
    "\n",
    "Original data:\n",
    "```\n",
    "[\n",
    "    [0.0, 380.0, 3.61, 3.0],\n",
    "    ...\n",
    "]\n",
    "```\n",
    "\n",
    "New dataset:\n",
    "```\n",
    "[\n",
    "    [0.0, 380.0, 3.61, 3.0, 0.5*(380/max_gre + 3.61/max_gpa)],\n",
    "    ...\n",
    "]\n",
    "```"
   ]
  },
  {
   "cell_type": "markdown",
   "id": "981b2c20-02d6-44c0-9508-d7b72b4bb74c",
   "metadata": {},
   "source": [
    "**ANSWER:**"
   ]
  },
  {
   "cell_type": "code",
   "execution_count": 46,
   "id": "45bb9ce4-f68c-418c-aaf8-205732127aad",
   "metadata": {},
   "outputs": [
    {
     "data": {
      "text/plain": [
       "[0.0, 380.0, 3.61, 3.0]"
      ]
     },
     "execution_count": 46,
     "metadata": {},
     "output_type": "execute_result"
    }
   ],
   "source": [
    "data[0]"
   ]
  },
  {
   "cell_type": "markdown",
   "id": "f4ba4570-df74-423f-a9d8-3c35a39bd059",
   "metadata": {},
   "source": [
    "The tasks are:\n",
    "* Extract the GRE and GPA for each item.\n",
    "* To create a new dataset with this new normalized score, we'll use `transform`."
   ]
  },
  {
   "cell_type": "code",
   "execution_count": 54,
   "id": "5ea99729-4b73-4ba6-9b43-3f896e476ab2",
   "metadata": {},
   "outputs": [
    {
     "data": {
      "text/plain": [
       "[[0.0, 380.0, 3.61, 3.0, 0.68875],\n",
       " [1.0, 660.0, 3.67, 3.0, 0.87125],\n",
       " [1.0, 800.0, 4.0, 1.0, 1.0],\n",
       " [1.0, 640.0, 3.19, 4.0, 0.7987500000000001],\n",
       " [0.0, 520.0, 2.93, 4.0, 0.69125]]"
      ]
     },
     "execution_count": 54,
     "metadata": {},
     "output_type": "execute_result"
    }
   ],
   "source": [
    "def normalize_score(item):\n",
    "    gre, gpa = item[1], item[2]\n",
    "    return 0.5 * (gre/800 + gpa/4.0)\n",
    "\n",
    "def new_item(item):\n",
    "    return [item[0], item[1], item[2], item[3], normalize_score(item)]\n",
    "\n",
    "new_data = transform(data, new_item)\n",
    "new_data[0:5]"
   ]
  },
  {
   "cell_type": "code",
   "execution_count": 52,
   "id": "c8c8c34a-3d96-430d-bcd8-e7bad8dd9d17",
   "metadata": {},
   "outputs": [
    {
     "data": {
      "text/plain": [
       "0.68875"
      ]
     },
     "execution_count": 52,
     "metadata": {},
     "output_type": "execute_result"
    }
   ],
   "source": [
    "normalize_score(data[0])"
   ]
  },
  {
   "cell_type": "code",
   "execution_count": null,
   "id": "a90caf27-da0a-4353-842e-b341ae828fc9",
   "metadata": {},
   "outputs": [],
   "source": []
  }
 ],
 "metadata": {
  "kernelspec": {
   "display_name": "Python 3 (ipykernel)",
   "language": "python",
   "name": "python3"
  },
  "language_info": {
   "codemirror_mode": {
    "name": "ipython",
    "version": 3
   },
   "file_extension": ".py",
   "mimetype": "text/x-python",
   "name": "python",
   "nbconvert_exporter": "python",
   "pygments_lexer": "ipython3",
   "version": "3.9.12"
  }
 },
 "nbformat": 4,
 "nbformat_minor": 5
}
