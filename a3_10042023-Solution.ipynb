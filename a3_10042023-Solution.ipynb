{
 "cells": [
  {
   "cell_type": "markdown",
   "id": "b5f2da0e-4e85-4446-9271-cc35081b8404",
   "metadata": {},
   "source": [
    "### COMP 4030 assignment 3 SOLUTION\n",
    "#### Due: 10/05/2023 at 9AM"
   ]
  },
  {
   "cell_type": "markdown",
   "id": "8ea0e4c6-6782-4702-9a71-fc8469732f37",
   "metadata": {},
   "source": [
    "---\n",
    "How to turn in your assignment:\n",
    "* Write your name in the file.\n",
    "* Export your notebook to an HTML file, and upload the HTML file to Canvas.\n",
    "\n",
    "Academic misconduct:\n",
    "* You must do these problems all by yourself. If you need help, reach out to the instructor or TA or both.  Do not use materials from online source or anyone else.\n",
    "* Your classmate can explain to you what to do, but your classmate should not give code/answer to you.  You should not give answers/code to your classmate.   Doing so violates the course's code of conduct."
   ]
  },
  {
   "cell_type": "markdown",
   "id": "ca31d091-540a-449d-a337-5539968c66fb",
   "metadata": {},
   "source": [
    "---\n",
    "**Problem 1**"
   ]
  },
  {
   "cell_type": "markdown",
   "id": "29ee1370-c53a-4b75-85ed-de6757587c10",
   "metadata": {},
   "source": [
    "Determine a lower bound complexity and upper bound complexity of the running time equation of this problem below.\n",
    "\n",
    "To do this you will have to specify the running time equation, T(n), of the program."
   ]
  },
  {
   "cell_type": "code",
   "execution_count": 1,
   "id": "069fbcfe-a1e7-45f8-928f-d95c586823a9",
   "metadata": {},
   "outputs": [],
   "source": [
    "def prob1(L):\n",
    "    s = 0\n",
    "    for x in L:\n",
    "        for y in L:\n",
    "            s += x\n",
    "            s *= 10 + x*y\n",
    "    for i in range(len(L)):                   \n",
    "        for j in range(i+1, len(L)): \n",
    "            s += L[i] * L[j]                 \n",
    "    return s"
   ]
  },
  {
   "cell_type": "markdown",
   "id": "a10eb1b0-5f71-4780-a05b-f4bc4805a405",
   "metadata": {},
   "source": [
    "**Answer:**"
   ]
  },
  {
   "cell_type": "markdown",
   "id": "6ddc4082-75bc-42c4-9f9c-bd43ea44b4b2",
   "metadata": {},
   "source": [
    "Part A: determining the upper bound complexity.\n",
    "\n",
    "* Lines 2 and 10 take `a` steps\n",
    "* Lines 7-9 take at most `b*n^2` steps.\n",
    "* Lines 3-6 take `c*n^2` steps.\n",
    "\n",
    "$T(n) \\le a + b*n^2 + c*n^2 \\in O(n^2)$.   See Problem 2's solution below.\n",
    "\n",
    "Part B: determining the lower bound complexity.\n",
    "\n",
    "* Lines 2 and 10 take `a` steps\n",
    "* Lines 7-9 take at least `b*n` steps.\n",
    "* Lines 3-6 take `c*n^2` steps.\n",
    "\n",
    "$T(n) \\ge a + b*n + c*n^2 \\in \\Omega(n^2)$.   See Problem 2's solution below.\n",
    "\n",
    "\n"
   ]
  },
  {
   "cell_type": "markdown",
   "id": "792f7473-e7d1-4830-8b14-3cc8e0eead4f",
   "metadata": {},
   "source": [
    "---\n",
    "**Problem 2**"
   ]
  },
  {
   "cell_type": "markdown",
   "id": "447e93b7-18c6-4268-82b3-954e6c2f22a4",
   "metadata": {},
   "source": [
    "Use the definition of $\\Theta$ to show that $7n^4 + 3n \\in \\Theta(n^4)$."
   ]
  },
  {
   "cell_type": "markdown",
   "id": "d5e891b9-0c2b-4b52-8dc5-8af4c6d6b594",
   "metadata": {},
   "source": [
    "**Answer:**"
   ]
  },
  {
   "cell_type": "markdown",
   "id": "ee21cf98-f244-4ff4-a8b0-c36642b489c2",
   "metadata": {},
   "source": [
    "To show the upper bound, $7n^4 + 3n \\le 7n^4 + 3n^4 = 10n^4$ for all $n > 1$.\n",
    "\n",
    "To show the lower bound, $7n^4 + 3n \\ge 1*n^4$ for all $n > 1$.\n",
    "\n",
    "Therefore, $n^4 \\le 7n^4 + 3n \\le 10n^4$ for all $n>1$.\n",
    "\n",
    "So, $7n^4 + 3n \\in \\Theta(n^4)$."
   ]
  },
  {
   "cell_type": "markdown",
   "id": "d5ea9694-d930-4d77-b382-dc7354f5cec4",
   "metadata": {},
   "source": [
    "---\n",
    "**Update 10.04.2023 (revised explanation for additional clarity):**\n",
    "\n",
    "**Problem 3**\n",
    "\n",
    "Given a list of votes, write program to find the winner (if there's one). You have to use the strategy below.\n",
    "\n",
    "The winner is the one that has more than 50\\% of the votes. \n",
    "\n",
    "For example, \n",
    "+ Input: ['John','Mary','John'], Output: 'John'. the winner is 'John' because 'John' has more than 50\\% of the votes.\n",
    "+ Input: ['John','Mary','John', 'Mary'], Output: None. No person has more than 50% of the votes.\n",
    "\n",
    "\n",
    "In this problem, votes are not hashable;  you **cannot use a dictionary to \"hash\" votes**.  In these  examples, the votes are \"strings\" (which are hashable). But this is for demo purposes only.  Votes can be implemented as non-hashable objects. \n",
    "\n",
    "**You can use comparison (==) to compare votes**.\n",
    "\n",
    "**Implement a recursive program to determine the winner in a given list of votes based on the following strategy:**\n",
    "\n",
    "1. If the list has fewer than two votes, solve it directly.\n",
    "2. Consider two halves of the list of votes: Left and Right.\n",
    "3. Use the same strategy recursively to find the winner in the Left and the Right.\n",
    "4. If the winner is the same in both, that's the overall winner.\n",
    "5. If they are not the same, the winner is either of them or None.  Compare each to all the votes to find the winner.\n",
    "\n"
   ]
  },
  {
   "cell_type": "markdown",
   "id": "72ec0e6e-75e5-4109-b367-870b5a4223ba",
   "metadata": {},
   "source": [
    "Update (10.03.2023): the partial code below is based on our decision in class on 10.03.2023.\n",
    "\n",
    "Use it in whichever way you want to solve this problem.\n",
    "```python\n",
    "#\n",
    "# Ouput: a winner or None\n",
    "#\n",
    "def find_winner( votes ):\n",
    "    # base case(s)\n",
    "    \n",
    "    \n",
    "    # non base cases\n",
    "    left, right = split_votes_into_LR(votes)\n",
    "    X = magic_way_to_find_the_winner(left)\n",
    "    Y = magic_way_to_find_the_winner(right)\n",
    "    if X==Y:\n",
    "        return X\n",
    "    else:\n",
    "        # if X and Y are not the same\n",
    "        # count votes for X\n",
    "        # count votes for Y\n",
    "        pass\n",
    "```\n"
   ]
  },
  {
   "cell_type": "markdown",
   "id": "7eb86060-b007-4f39-8596-70451b96386d",
   "metadata": {},
   "source": [
    "**Answer:**"
   ]
  },
  {
   "cell_type": "code",
   "execution_count": 10,
   "id": "685f67bb-4130-4f18-b089-30052300c894",
   "metadata": {},
   "outputs": [],
   "source": [
    "#\n",
    "# Ouput: a winner or None\n",
    "#\n",
    "def find_winner( votes ):\n",
    "    if len(votes)==1:\n",
    "        return votes[0]\n",
    "    \n",
    "    left = votes[0: len(votes)//2] \n",
    "    right = votes[len(votes)//2 : len(votes)] \n",
    "    \n",
    "    winner_on_left = find_winner(left)\n",
    "    winner_on_right = find_winner(right)\n",
    "    \n",
    "    if winner_on_left==winner_on_right:\n",
    "        return winner_on_right\n",
    "    else:\n",
    "        count = 0\n",
    "        for vote in votes:\n",
    "            if vote==winner_on_left:\n",
    "                count+=1\n",
    "            if count > 0.5*len(votes):\n",
    "                return winner_on_left\n",
    "        \n",
    "        count = 0\n",
    "        for vote in votes:\n",
    "            if vote==winner_on_right:\n",
    "                count+=1\n",
    "            if count > 0.5*len(votes):\n",
    "                return winner_on_right\n",
    "        \n",
    "        return None"
   ]
  },
  {
   "cell_type": "code",
   "execution_count": 11,
   "id": "5be6d5cf-9109-4a17-8bbb-0d16a676a98d",
   "metadata": {},
   "outputs": [
    {
     "name": "stdout",
     "output_type": "stream",
     "text": [
      "John\n",
      "None\n",
      "John\n"
     ]
    }
   ],
   "source": [
    "votes = ['John','Mary','John']\n",
    "print(find_winner(votes))\n",
    "\n",
    "votes = ['John','Mary','John','James']\n",
    "print(find_winner(votes))\n",
    "\n",
    "votes = ['John','Mary','John','James','John']\n",
    "print(find_winner(votes))"
   ]
  },
  {
   "cell_type": "markdown",
   "id": "246abc65-6f27-4466-9165-d79bcebc492f",
   "metadata": {},
   "source": [
    "---\n",
    "\n",
    "The next problem(s) are about trees.  A ternary tree has three branches: left, right, and middle. Class RTree -- as defined below -- creates a ternary tree of a given depth.  Each node of the tree has a random color, which is either red or blue.\n",
    "\n",
    "You can use the \"print\" method to see the nodes' ids and colors, as well as the tree structure.\n"
   ]
  },
  {
   "cell_type": "code",
   "execution_count": 14,
   "id": "dc987a0a-b723-4be1-8c4b-9d9f2be49fc0",
   "metadata": {
    "tags": []
   },
   "outputs": [],
   "source": [
    "import random\n",
    "\n",
    "class RTree:\n",
    "    node_id = 0\n",
    "    def __init__(self, depth=0):\n",
    "        self.color = 'red' if random.randint(0,1) == 0 else 'blue'\n",
    "        self.left = None\n",
    "        self.right = None\n",
    "        self.middle = None\n",
    "        self.id = RTree.node_id\n",
    "        RTree.node_id += 1\n",
    "        if depth > 0:\n",
    "            self.left = RTree(depth-1)\n",
    "            self.middle = RTree(depth-1)\n",
    "            self.right = RTree(depth-1)\n",
    "\n",
    "    def print(self, indents=0):\n",
    "        v = 'r' if self.color == 'red' else 'b'\n",
    "        print('\\t'*indents + '({}){}'.format(self.id,v))\n",
    "        if self.left is not None:\n",
    "            self.left.print(indents+1)\n",
    "        if self.middle is not None:\n",
    "            self.middle.print(indents+1)\n",
    "        if self.right is not None:\n",
    "            self.right.print(indents+1)"
   ]
  },
  {
   "cell_type": "code",
   "execution_count": 15,
   "id": "d7ddd18b-398d-4d72-aab2-4f345a2a3ad8",
   "metadata": {},
   "outputs": [
    {
     "name": "stdout",
     "output_type": "stream",
     "text": [
      "(0)r\n",
      "\t(1)r\n",
      "\t\t(2)b\n",
      "\t\t(3)r\n",
      "\t\t(4)r\n",
      "\t(5)b\n",
      "\t\t(6)b\n",
      "\t\t(7)r\n",
      "\t\t(8)r\n",
      "\t(9)b\n",
      "\t\t(10)b\n",
      "\t\t(11)b\n",
      "\t\t(12)r\n"
     ]
    }
   ],
   "source": [
    "#\n",
    "# Example of a randomly-colored tree with depth of 2\n",
    "#\n",
    "a_tree = RTree(2)\n",
    "a_tree.print()\n",
    "# print('left subtree')\n",
    "# a_tree.left.print()\n",
    "\n",
    "# print('middle subtree')\n",
    "# a_tree.middle.print()\n",
    "\n",
    "# print('right subtree')\n",
    "# a_tree.right.print()\n"
   ]
  },
  {
   "cell_type": "markdown",
   "id": "895a15b8-02d7-4aa8-b890-84a41325a33d",
   "metadata": {},
   "source": [
    "---\n",
    "**Update 10.04.2023 (revised explanation for additional clarity):**\n",
    "\n",
    "**Question 4**\n",
    "\n",
    "Implement this program, `count_blues(t)`, which returns the number of blue nodes of the tree `t`.\n",
    "\n",
    "`t` has the following attributes: `.color`, `.left`, `.right`.\n",
    "\n",
    "You must use following strategy:\n",
    "\n",
    "1. Determine if `t`'s color is red or blue.\n",
    "2. Use the same strategy recursively to find the number of blue notes in the left subtree, middle subtree, and right subtree.\n",
    "3. Calculate the total number of blue nodes. "
   ]
  },
  {
   "cell_type": "markdown",
   "id": "d87d7088-ad6c-4594-aae1-7190abea7f22",
   "metadata": {},
   "source": [
    "**Answer:**"
   ]
  },
  {
   "cell_type": "code",
   "execution_count": 17,
   "id": "6c8e3977-190d-4036-8bb9-b35be5e95946",
   "metadata": {},
   "outputs": [],
   "source": [
    "def count_blues(t):\n",
    "    if t is None:\n",
    "        return 0\n",
    "    if t.color == 'blue':\n",
    "        count = 1\n",
    "    else:\n",
    "        count = 0\n",
    "    return count + count_blues(t.left) + count_blues(t.right) + count_blues(t.middle)"
   ]
  },
  {
   "cell_type": "code",
   "execution_count": 18,
   "id": "bb81154b-1277-4f37-9554-c7c21248bbdb",
   "metadata": {},
   "outputs": [
    {
     "data": {
      "text/plain": [
       "6"
      ]
     },
     "execution_count": 18,
     "metadata": {},
     "output_type": "execute_result"
    }
   ],
   "source": [
    "count_blues(a_tree)"
   ]
  },
  {
   "cell_type": "markdown",
   "id": "1ee692d5-e9fa-4c07-b6da-da0406ea6f80",
   "metadata": {},
   "source": [
    "---\n",
    "**Update 10.04.2023 (revised explanation for additional clarity):**\n",
    "\n",
    "**Question 5**\n",
    "Write a program that takes as input a tree, and prints out ids of nodes that have more blue nodes in its middle subtree than blue nodes in either its left subtree or its right subtree.\n",
    "\n",
    "For example, in the tree below, your program should print out `13` because its middle subtree has more blue nodes (4 of them) than blue nodes in the left subtree (only 1 blue node) and right subtree (0 blue node).\n",
    "```\n",
    "(13)b\n",
    "\t(14)r\n",
    "\t\t(15)b\n",
    "\t\t(16)r\n",
    "\t\t(17)r\n",
    "\t(18)b\n",
    "\t\t(19)b\n",
    "\t\t(20)b\n",
    "\t\t(21)b\n",
    "\t(22)r\n",
    "\t\t(23)r\n",
    "\t\t(24)r\n",
    "\t\t(25)r\n",
    "```"
   ]
  },
  {
   "cell_type": "markdown",
   "id": "a8a2341a-5add-4a43-8233-a7f86a12446f",
   "metadata": {},
   "source": [
    "\n",
    "**Hint:  this program can use the program in the previous problem.**\n",
    "\n",
    "For the following input tree, your program would print out `13` and `22`.  \n",
    "```\n",
    "(13)b\n",
    "\t(14)r\n",
    "\t\t(15)r\n",
    "\t\t(16)r\n",
    "\t\t(17)r\n",
    "\t(18)b\n",
    "\t\t(19)b\n",
    "\t\t(20)b\n",
    "\t\t(21)b\n",
    "\t(22)r\n",
    "\t\t(23)r\n",
    "\t\t(24)b\n",
    "\t\t(25)r\n",
    "```"
   ]
  },
  {
   "cell_type": "markdown",
   "id": "9b99032c-abab-403a-8dd5-1830b98bd58a",
   "metadata": {},
   "source": [
    "ANSWER:"
   ]
  },
  {
   "cell_type": "code",
   "execution_count": 20,
   "id": "fd6e5e52-d631-4745-9b99-5553dee65896",
   "metadata": {},
   "outputs": [],
   "source": [
    "#\n",
    "# Input: a random binary tree\n",
    "# Output: none \n",
    "# Side effect: prob5 does this:\n",
    "#    prints out ids of nodes that have more blue nodes in its middle subtree \n",
    "#    than blue nodes in either its left subtree or its right subtree.\n",
    "#\n",
    "def prob5( some_tree ):\n",
    "    if some_tree is not None:\n",
    "        a = count_blues(some_tree.left)\n",
    "        b = count_blues(some_tree.middle)        \n",
    "        c = count_blues(some_tree.right)        \n",
    "        if b>a and b>c:\n",
    "            print(some_tree.id)\n",
    "        prob5(some_tree.left)\n",
    "        prob5(some_tree.middle)\n",
    "        prob5(some_tree.right)        "
   ]
  },
  {
   "cell_type": "code",
   "execution_count": 26,
   "id": "2b1fdada-4520-4eac-a8fe-ffb909759d3c",
   "metadata": {},
   "outputs": [
    {
     "name": "stdout",
     "output_type": "stream",
     "text": [
      "(39)b\n",
      "\t(40)b\n",
      "\t\t(41)b\n",
      "\t\t(42)r\n",
      "\t\t(43)b\n",
      "\t(44)r\n",
      "\t\t(45)r\n",
      "\t\t(46)r\n",
      "\t\t(47)r\n",
      "\t(48)b\n",
      "\t\t(49)r\n",
      "\t\t(50)b\n",
      "\t\t(51)r\n"
     ]
    }
   ],
   "source": [
    "a_tree = RTree(2)\n",
    "a_tree.print()"
   ]
  },
  {
   "cell_type": "code",
   "execution_count": 27,
   "id": "fa813902-d56b-48d5-8204-b684aaa7497e",
   "metadata": {},
   "outputs": [
    {
     "name": "stdout",
     "output_type": "stream",
     "text": [
      "48\n"
     ]
    }
   ],
   "source": [
    "prob5(a_tree)"
   ]
  },
  {
   "cell_type": "code",
   "execution_count": null,
   "id": "6dc6897d-f01e-4b21-9005-286516aa62f2",
   "metadata": {},
   "outputs": [],
   "source": []
  }
 ],
 "metadata": {
  "kernelspec": {
   "display_name": "Python 3 (ipykernel)",
   "language": "python",
   "name": "python3"
  },
  "language_info": {
   "codemirror_mode": {
    "name": "ipython",
    "version": 3
   },
   "file_extension": ".py",
   "mimetype": "text/x-python",
   "name": "python",
   "nbconvert_exporter": "python",
   "pygments_lexer": "ipython3",
   "version": "3.9.12"
  }
 },
 "nbformat": 4,
 "nbformat_minor": 5
}
